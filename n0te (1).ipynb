{
 "cells": [
  {
   "cell_type": "markdown",
   "id": "e7f897ca",
   "metadata": {
    "id": "e7f897ca"
   },
   "source": [
    "# Анализ лояльности пользователей Яндекс Афиши\n",
    "\n",
    "\n",
    "Автор: Каракчеев Дмитрий Игоревич\n",
    "Дата: 20.10.2025"
   ]
  },
  {
   "cell_type": "markdown",
   "id": "ab3b93fd",
   "metadata": {
    "id": "ab3b93fd"
   },
   "source": [
    "\n",
    "---\n",
    "Цель проекта\n",
    "Сервис Яндекс Афиша предоставляет информацию о культурных и развлекательных мероприятиях, а также возможность приобретать на них билеты онлайн. Команда маркетинга стремится не просто привлекать новых пользователей, а удерживать их и превращать в постоянных клиентов.\n",
    "\n",
    "Целью проекта является проведение исследовательского анализа данных для определения профиля пользователей, которые с большей вероятностью возвращаются на платформу и вновь совершают покупки, выделив признаки и факторы, влияющие на это. Для команды маркетинга это позволит: точнее внедрять персонализированные условия и рекламу для таких клиентов, оптимизировать бюджет на маркетинг и повысить общий уровень удержания.\n",
    "\n",
    "Содержимое проекта\n",
    " \n",
    "1. Загрузка и знакомство с данными\n",
    "2. Предобработка данных\n",
    "3. Создание профиля пользователя\n",
    "4. Исследовательский анализ данных\n",
    "5. Общие выводы и рекомендации\n"
   ]
  },
  {
   "cell_type": "code",
   "execution_count": 1,
   "id": "6e024204",
   "metadata": {
    "id": "6e024204"
   },
   "outputs": [
    {
     "name": "stdout",
     "output_type": "stream",
     "text": [
      "Requirement already satisfied: sqlalchemy in /opt/conda/lib/python3.9/site-packages (1.4.20)\n",
      "Requirement already satisfied: greenlet!=0.4.17 in /opt/conda/lib/python3.9/site-packages (from sqlalchemy) (1.1.0)\n",
      "Requirement already satisfied: psycopg2-binary in /opt/conda/lib/python3.9/site-packages (2.9.2)\n",
      "Requirement already satisfied: phik in /opt/conda/lib/python3.9/site-packages (0.12.5)\n",
      "Requirement already satisfied: pandas>=0.25.1 in /opt/conda/lib/python3.9/site-packages (from phik) (1.2.4)\n",
      "Requirement already satisfied: numpy>=1.18.0 in /opt/conda/lib/python3.9/site-packages (from phik) (1.21.1)\n",
      "Requirement already satisfied: scipy>=1.5.2 in /opt/conda/lib/python3.9/site-packages (from phik) (1.9.1)\n",
      "Requirement already satisfied: joblib>=0.14.1 in /opt/conda/lib/python3.9/site-packages (from phik) (1.1.0)\n",
      "Requirement already satisfied: matplotlib>=2.2.3 in /opt/conda/lib/python3.9/site-packages (from phik) (3.3.4)\n",
      "Requirement already satisfied: pillow>=6.2.0 in /opt/conda/lib/python3.9/site-packages (from matplotlib>=2.2.3->phik) (8.4.0)\n",
      "Requirement already satisfied: pyparsing!=2.0.4,!=2.1.2,!=2.1.6,>=2.0.3 in /opt/conda/lib/python3.9/site-packages (from matplotlib>=2.2.3->phik) (2.4.7)\n",
      "Requirement already satisfied: python-dateutil>=2.1 in /opt/conda/lib/python3.9/site-packages (from matplotlib>=2.2.3->phik) (2.8.1)\n",
      "Requirement already satisfied: kiwisolver>=1.0.1 in /opt/conda/lib/python3.9/site-packages (from matplotlib>=2.2.3->phik) (1.4.4)\n",
      "Requirement already satisfied: cycler>=0.10 in /opt/conda/lib/python3.9/site-packages (from matplotlib>=2.2.3->phik) (0.11.0)\n",
      "Requirement already satisfied: pytz>=2017.3 in /opt/conda/lib/python3.9/site-packages (from pandas>=0.25.1->phik) (2021.1)\n",
      "Requirement already satisfied: six>=1.5 in /opt/conda/lib/python3.9/site-packages (from python-dateutil>=2.1->matplotlib>=2.2.3->phik) (1.16.0)\n",
      "Collecting python-dotenv\n",
      "  Downloading python_dotenv-1.1.1-py3-none-any.whl (20 kB)\n",
      "Installing collected packages: python-dotenv\n",
      "Successfully installed python-dotenv-1.1.1\n"
     ]
    }
   ],
   "source": [
    "import numpy as np\n",
    "import matplotlib.pyplot as plt\n",
    "!pip install sqlalchemy\n",
    "!pip install psycopg2-binary \n",
    "import pandas as pd\n",
    "from sqlalchemy import create_engine\n",
    "!pip install phik\n",
    "import phik as ph\n",
    "import seaborn as sns\n",
    "!pip install python-dotenv"
   ]
  },
  {
   "cell_type": "code",
   "execution_count": 4,
   "id": "d7526471",
   "metadata": {
    "id": "67ecab94"
   },
   "outputs": [],
   "source": [
    "import os\n",
    "from dotenv import load_dotenv\n",
    "import psycopg2  # или sqlalchemy, в зависимости от твоего подключения\n",
    "\n",
    "# Загружаем переменные из .env\n",
    "load_dotenv()\n",
    "\n",
    "# Извлекаем параметры подключения\n",
    "DB_NAME = os.getenv(\"DB_NAME\")\n",
    "DB_HOST = os.getenv(\"DB_HOST\")\n",
    "DB_PORT = os.getenv(\"DB_PORT\")\n",
    "DB_USER = os.getenv(\"DB_USER\")\n",
    "DB_PASSWORD = os.getenv(\"DB_PASSWORD\")\n",
    "\n",
    "# Подключаемся к БД (пример для psycopg2)\n",
    "conn = psycopg2.connect(\n",
    "    dbname=DB_NAME,\n",
    "    host=DB_HOST,\n",
    "    port=DB_PORT,\n",
    "    user=DB_USER,\n",
    "    password=DB_PASSWORD\n",
    ")"
   ]
  },
  {
   "cell_type": "code",
   "execution_count": null,
   "id": "67ecab94",
   "metadata": {
    "id": "67ecab94"
   },
   "outputs": [],
   "source": [
    "query = '''\n",
    "SELECT\n",
    "  user_id,\n",
    "  device_type_canonical,\n",
    "  order_id,\n",
    "  created_dt_msk,\n",
    "  created_ts_msk,\n",
    "  currency_code,\n",
    "  revenue,\n",
    "  tickets_count,\n",
    "  created_dt_msk :: date - LAG(created_dt_msk :: date) OVER (PARTITION BY user_id ORDER BY created_dt_msk) AS days_since_prev,\n",
    "  event_id,\n",
    "  event_name_code,\n",
    "  event_type_main,\n",
    "  service_name,\n",
    "  region_name,\n",
    "  city_name\n",
    "FROM afisha.purchases\n",
    "INNER JOIN afisha.events USING(event_id)\n",
    "INNER JOIN afisha.city USING(city_id)\n",
    "INNER JOIN afisha.regions USING(region_id)\n",
    "WHERE device_type_canonical IN ('mobile', 'desktop') AND event_type_main NOT IN ('фильм')\n",
    "ORDER BY user_id;\n",
    "'''\n",
    "df = pd.read_sql_query(query, con=engine)\n",
    "df.head()"
   ]
  },
  {
   "cell_type": "code",
   "execution_count": 5,
   "id": "6f638939",
   "metadata": {
    "id": "6f638939",
    "scrolled": true
   },
   "outputs": [
    {
     "ename": "NameError",
     "evalue": "name 'df' is not defined",
     "output_type": "error",
     "traceback": [
      "\u001b[0;31m---------------------------------------------------------------------------\u001b[0m",
      "\u001b[0;31mNameError\u001b[0m                                 Traceback (most recent call last)",
      "\u001b[0;32m/tmp/ipykernel_110/2602836401.py\u001b[0m in \u001b[0;36m<module>\u001b[0;34m\u001b[0m\n\u001b[0;32m----> 1\u001b[0;31m \u001b[0mrows_before\u001b[0m\u001b[0;34m,\u001b[0m \u001b[0mcols_before\u001b[0m \u001b[0;34m=\u001b[0m \u001b[0mdf\u001b[0m\u001b[0;34m.\u001b[0m\u001b[0mshape\u001b[0m\u001b[0;34m\u001b[0m\u001b[0;34m\u001b[0m\u001b[0m\n\u001b[0m\u001b[1;32m      2\u001b[0m \u001b[0mprint\u001b[0m\u001b[0;34m(\u001b[0m\u001b[0;34mf\"Размер датафрейма до обработки: {rows_before} строк, {cols_before} столбцов\"\u001b[0m\u001b[0;34m)\u001b[0m\u001b[0;34m\u001b[0m\u001b[0;34m\u001b[0m\u001b[0m\n",
      "\u001b[0;31mNameError\u001b[0m: name 'df' is not defined"
     ]
    }
   ],
   "source": [
    "rows_before, cols_before = df.shape\n",
    "print(f\"Размер датафрейма до обработки: {rows_before} строк, {cols_before} столбцов\")"
   ]
  },
  {
   "cell_type": "markdown",
   "id": "120237b6",
   "metadata": {
    "id": "120237b6"
   },
   "source": [
    "---\n",
    "\n",
    "**Задача 1.2:** Изучите общую информацию о выгруженных данных. Оцените корректность выгрузки и объём полученных данных.\n",
    "\n",
    "Предположите, какие шаги необходимо сделать на стадии предобработки данных — например, скорректировать типы данных.\n",
    "\n",
    "Зафиксируйте основную информацию о данных в кратком промежуточном выводе.\n",
    "\n",
    "---"
   ]
  },
  {
   "cell_type": "code",
   "execution_count": null,
   "id": "e8c6517f",
   "metadata": {
    "id": "e8c6517f"
   },
   "outputs": [],
   "source": [
    "print('Первые строки датафрейма:')\n",
    "display(df)\n",
    "num_of_rows = df.shape[0]"
   ]
  },
  {
   "cell_type": "code",
   "execution_count": null,
   "id": "6b7d2d83",
   "metadata": {
    "id": "6b7d2d83"
   },
   "outputs": [],
   "source": [
    "\n",
    "print('\\nОбщая информация о таблице:')\n",
    "df_info = pd.DataFrame({\n",
    "    'non_null_count': df.notnull().sum(),\n",
    "    'null_count': df.isnull().sum(),\n",
    "    'dtype': df.dtypes\n",
    "})\n",
    "display(df_info)\n"
   ]
  },
  {
   "cell_type": "code",
   "execution_count": null,
   "id": "fcfca89a",
   "metadata": {
    "id": "fcfca89a",
    "scrolled": true
   },
   "outputs": [],
   "source": [
    "print(f\"\\nРазмер датафрейма: {df.shape[0]} строк и {df.shape[1]} столбцов\")\n",
    "\n",
    "# Проверим уникальных пользователей и заказов\n",
    "unique_users = df['user_id'].nunique()\n",
    "unique_orders = df['order_id'].nunique()\n",
    "\n",
    "print(f\"\\nУникальных пользователей: {unique_users}\")\n",
    "print(f\"Уникальных заказов: {unique_orders}\")\n",
    "\n",
    "# Проверим долю пропусков в каждом столбце\n",
    "print(\"\\nДоля пропусков в каждом столбце (%):\")\n",
    "display((df.isnull().mean() * 100).round(2))"
   ]
  },
  {
   "cell_type": "markdown",
   "id": "caee49f7",
   "metadata": {},
   "source": [
    "Размер выгрузки: 292 034 строк и 13 столбцов.\n",
    "Уникальных пользователей: 22 000.\n",
    "Уникальных заказов: 292 034, что логично — один заказ = одна запись.\n",
    "\n",
    "Пропусков не обнаружено во всех столбцах.\n",
    "Типы данных корректны:\n",
    "даты (created_dt_msk, created_ts_msk) — datetime64;\n",
    "числовые поля (revenue, tickets_count, total, age_limit, event_id) — int64 / float64;\n",
    "категориальные поля (user_id, cinema_circuit, currency_code, device_type_canonical, service_name) — object.\n",
    "\n",
    "Выгрузка корректна, структура таблицы соответствует ожиданиям, данные чистые.\n",
    "Для дальнейшей обработки необходимо:\n",
    "\n",
    "Проверить наличие заказов в других валютах (currency_code = 'kzt') и привести выручку к рублям.\n",
    "\n",
    "Проверить распределение числовых признаков (revenue, tickets_count) на выбросы.\n",
    "\n",
    "Проверить категориальные значения на наличие дублей или пропусков, требующих нормализации."
   ]
  },
  {
   "cell_type": "markdown",
   "id": "66945343",
   "metadata": {
    "id": "66945343"
   },
   "source": [
    "---\n",
    "\n",
    "###  2. Предобработка данных\n",
    "\n",
    "\n",
    "\n"
   ]
  },
  {
   "cell_type": "code",
   "execution_count": null,
   "id": "c7ed8a0b",
   "metadata": {
    "id": "c7ed8a0b"
   },
   "outputs": [],
   "source": [
    "rows_before, cols_before = df.shape\n",
    "print(f\"Размер датафрейма до обработки: {rows_before} строк, {cols_before} столбцов\")"
   ]
  },
  {
   "cell_type": "code",
   "execution_count": null,
   "id": "451687b4",
   "metadata": {},
   "outputs": [],
   "source": [
    "tenge_df = pd.read_csv('https://code.s3.yandex.net/datasets/final_tickets_tenge_df.csv')\n",
    "tenge_df['data'] = pd.to_datetime(tenge_df['data'])\n",
    "tenge_df['rate_per_tenge'] = tenge_df['curs'] / 100\n",
    "display(tenge_df.head())"
   ]
  },
  {
   "cell_type": "code",
   "execution_count": null,
   "id": "48e5ef83",
   "metadata": {
    "id": "48e5ef83"
   },
   "outputs": [],
   "source": [
    "df['created_dt_msk'] = pd.to_datetime(df['created_dt_msk'])\n",
    "df = df.merge(tenge_df[['data', 'rate_per_tenge']], how='left', left_on='created_dt_msk', right_on='data')\n",
    "df['revenue_rub'] = df.apply(\n",
    "    lambda x: x['revenue'] if x['currency_code'] == 'rub' else x['revenue'] * x['rate_per_tenge'],\n",
    "    axis=1\n",
    ")\n",
    "display(df[['created_dt_msk', 'currency_code', 'revenue', 'rate_per_tenge', 'revenue_rub']].head())\n",
    "\n",
    "print(f\"Размер датафрейма после конвертации: {df.shape[0]} строк, {df.shape[1]} столбцов\")"
   ]
  },
  {
   "cell_type": "code",
   "execution_count": null,
   "id": "e68c5629",
   "metadata": {
    "id": "e68c5629"
   },
   "outputs": [],
   "source": [
    "# Проверим количество пропусков в каждом столбце\n",
    "missing = df.isna().sum().sort_values(ascending=False)\n",
    "display(missing)\n",
    "\n",
    "# Проверим долю пропусков\n",
    "print((df.isna().mean() * 100).round(2))"
   ]
  },
  {
   "cell_type": "code",
   "execution_count": null,
   "id": "d979c21a",
   "metadata": {},
   "outputs": [],
   "source": [
    "df['days_since_prev'] = df['days_since_prev'].fillna(-1).astype('int32')"
   ]
  },
  {
   "cell_type": "markdown",
   "id": "18b2cc4c",
   "metadata": {},
   "source": []
  },
  {
   "cell_type": "code",
   "execution_count": null,
   "id": "19da3d6b",
   "metadata": {
    "id": "19da3d6b"
   },
   "outputs": [],
   "source": [
    "df['created_dt_msk'] = pd.to_datetime(df['created_dt_msk'])\n",
    "df['created_ts_msk'] = pd.to_datetime(df['created_ts_msk'])\n",
    "df['tickets_count'] = df['tickets_count'].astype('int16')\n",
    "df['revenue_rub'] = df['revenue_rub'].astype('float32')"
   ]
  },
  {
   "cell_type": "code",
   "execution_count": null,
   "id": "d31ebfc8",
   "metadata": {
    "id": "d31ebfc8"
   },
   "outputs": [],
   "source": [
    "for col in ['device_type_canonical', 'service_name', 'region_name', 'event_type_main']:\n",
    "    print(f\"\\n{col} — уникальные значения:\")\n",
    "    print(df[col].value_counts(dropna=False).head(10))\n",
    "df[['revenue_rub', 'tickets_count']].describe()"
   ]
  },
  {
   "cell_type": "code",
   "execution_count": null,
   "id": "6591d6b2",
   "metadata": {},
   "outputs": [],
   "source": [
    "plt.figure(figsize=(12,4))\n",
    "plt.subplot(1,2,1)\n",
    "df['revenue_rub'].hist(bins=50)\n",
    "plt.title('Распределение выручки с заказа')\n",
    "\n",
    "plt.subplot(1,2,2)\n",
    "df['tickets_count'].hist(bins=20)\n",
    "plt.title('Распределение количества билетов в заказе')\n",
    "plt.show()"
   ]
  },
  {
   "cell_type": "code",
   "execution_count": null,
   "id": "948b8e5e",
   "metadata": {},
   "outputs": [],
   "source": [
    "p99 = df['revenue_rub'].quantile(0.99)\n",
    "df_filtered = df[df['revenue_rub'] <= p99]\n",
    "\n",
    "removed = df.shape[0] - df_filtered.shape[0]\n",
    "removed_pct = round(removed / df.shape[0] * 100, 2)\n",
    "\n",
    "print(f\"Отфильтровано выбросов: {removed} строк ({removed_pct}%)\")"
   ]
  },
  {
   "cell_type": "code",
   "execution_count": null,
   "id": "b50b075e",
   "metadata": {
    "scrolled": true
   },
   "outputs": [],
   "source": [
    "rows_after, cols_after = df.shape\n",
    "print(f\"Размер датафрейма после обработки: {rows_after} строк, {cols_after} столбцов\")\n"
   ]
  },
  {
   "cell_type": "markdown",
   "id": "a69a27c5",
   "metadata": {},
   "source": [
    "Пропуски обнаружены только в столбце days_since_prev (7,5%), что ожидаемо.\n",
    "Они заменены на значение -1, обозначающее первый заказ пользователя.\n",
    "\n",
    "Типы данных приведены к корректным форматам (datetime, int16, float32), что уменьшило размерность и повысило точность анализа.\n",
    "\n",
    "Категориальные признаки не содержат ошибок, а значения типа 'нет' и 'unknown' отражают особенности выгрузки и оставлены без изменений.\n",
    "\n",
    "В поле revenue_rub выявлены редкие крупные значения (выбросы).\n",
    "После фильтрации по 99-му перцентилю удалено ≈1% строк, что не исказило структуру данных.\n",
    "\n",
    "Итоговый датасет очищен, типы данных оптимизированы, данные готовы для построения пользовательских профилей и аналитики."
   ]
  },
  {
   "cell_type": "markdown",
   "id": "621c1db9",
   "metadata": {
    "id": "621c1db9"
   },
   "source": [
    "---\n",
    "\n",
    "### 3. Создание профиля пользователя\n",
    "\n",
    "\n"
   ]
  },
  {
   "cell_type": "code",
   "execution_count": null,
   "id": "cccb15fa",
   "metadata": {},
   "outputs": [],
   "source": [
    "df_filtered = df_filtered.sort_values(by=['user_id', 'created_dt_msk'])"
   ]
  },
  {
   "cell_type": "code",
   "execution_count": null,
   "id": "e374ef11",
   "metadata": {
    "id": "e374ef11"
   },
   "outputs": [],
   "source": [
    "user_profile = (\n",
    "    df_filtered.groupby('user_id')\n",
    "    .agg(\n",
    "        first_order_date=('created_dt_msk', 'min'),\n",
    "        last_order_date=('created_dt_msk', 'max'),\n",
    "        orders_count=('order_id', 'count'),\n",
    "        avg_revenue_rub=('revenue_rub', 'mean'),\n",
    "        avg_tickets_count=('tickets_count', 'mean'),\n",
    "        avg_days_since_prev=('days_since_prev', lambda x: x[x > 0].mean())  # исключаем -1 (первый заказ)\n",
    "    )\n",
    "    .reset_index()\n",
    ")\n",
    "first_orders = (\n",
    "    df_filtered\n",
    "    .sort_values(by=['user_id', 'created_dt_msk'])\n",
    "    .groupby('user_id')\n",
    "    .first()\n",
    "    .reset_index()[['user_id', 'device_type_canonical', 'region_name', 'service_name', 'event_type_main']]\n",
    ")\n",
    "first_orders = first_orders.rename(columns={\n",
    "    'device_type_canonical': 'first_device',\n",
    "    'region_name': 'first_region',\n",
    "    'service_name': 'first_service',\n",
    "    'event_type_main': 'first_event_type'\n",
    "})\n",
    "user_profile = user_profile.merge(first_orders, on='user_id', how='left')\n",
    "user_profile['is_two'] = (user_profile['orders_count'] >= 2).astype(int)\n",
    "user_profile['is_five'] = (user_profile['orders_count'] >= 5).astype(int)\n"
   ]
  },
  {
   "cell_type": "code",
   "execution_count": null,
   "id": "65e2a758",
   "metadata": {
    "id": "65e2a758"
   },
   "outputs": [],
   "source": [
    "print(f\"Размер таблицы с профилем пользователей: {user_profile.shape[0]} строк и {user_profile.shape[1]} столбцов\")\n",
    "display(user_profile.head(10))"
   ]
  },
  {
   "cell_type": "code",
   "execution_count": null,
   "id": "9990d704",
   "metadata": {},
   "outputs": [],
   "source": [
    "user_profile.info()"
   ]
  },
  {
   "cell_type": "markdown",
   "id": "1LGZVL7FhrmD",
   "metadata": {
    "id": "1LGZVL7FhrmD"
   },
   "source": [
    "---\n",
    "\n",
    "**Задача 3.2.** Прежде чем проводить исследовательский анализ данных и делать выводы, важно понять, с какими данными вы работаете: насколько они репрезентативны и нет ли в них аномалий.\n",
    "\n",
    "Используя данные о профилях пользователей, рассчитайте:\n",
    "\n",
    "- общее число пользователей в выборке;\n",
    "- среднюю выручку с одного заказа;\n",
    "- долю пользователей, совершивших 2 и более заказа;\n",
    "- долю пользователей, совершивших 5 и более заказов.\n",
    "\n",
    "Также изучите статистические показатели:\n",
    "\n",
    "- по общему числу заказов;\n",
    "- по среднему числу билетов в заказе;\n",
    "- по среднему количеству дней между покупками.\n",
    "\n",
    "По результатам оцените данные: достаточно ли их по объёму, есть ли аномальные значения в данных о количестве заказов и среднем количестве билетов?\n",
    "\n",
    "Если вы найдёте аномальные значения, опишите их и примите обоснованное решение о том, как с ними поступить:\n",
    "\n",
    "- Оставить и учитывать их при анализе?\n",
    "- Отфильтровать данные по какому-то значению, например, по 95-му или 99-му перцентилю?\n",
    "\n",
    "Если вы проведёте фильтрацию, то вычислите объём отфильтрованных данных и выведите статистические показатели по обновлённому датасету."
   ]
  },
  {
   "cell_type": "code",
   "execution_count": null,
   "id": "557be834",
   "metadata": {
    "id": "557be834"
   },
   "outputs": [],
   "source": [
    "total_users = user_profile.shape[0]\n",
    "print('Общее число пользователей:', total_users)\n",
    "\n",
    "# Рассчитываем среднюю выручку с одного заказа по всему датафрейму df\n",
    "avg_revenue_per_order = df['revenue_rub'].mean().round(2)\n",
    "print(f'Средняя выручка с одного заказа (по всему датафрейму df): {avg_revenue_per_order} руб.')\n",
    "\n",
    "# Рассчитываем среднюю выручку с одного заказа (усреднение средних значений по пользователям)\n",
    "avg_revenue_per_order2 = user_profile['avg_revenue_rub'].mean().round(2)\n",
    "print(f'Средняя выручка с одного заказа (усреднение средних значений по пользователям): {avg_revenue_per_order2} руб.')\n",
    "\n",
    "# Рассчитываем долю пользователей, совершивших 2+ заказа\n",
    "is_two_ratio = (user_profile['is_two'].mean() * 100).round(2)\n",
    "print(f'Доля пользователей с 2+ заказами: {is_two_ratio}%')\n",
    "\n",
    "# Рассчитываем долю пользователей, совершивших 5+ заказов\n",
    "is_five_ratio = (user_profile['is_five'].mean() * 100).round(2)\n",
    "print(f'Доля пользователей с 5+ заказами: {is_five_ratio}%')\n"
   ]
  },
  {
   "cell_type": "code",
   "execution_count": null,
   "id": "b1eee99f",
   "metadata": {
    "id": "b1eee99f"
   },
   "outputs": [],
   "source": [
    "print(user_profile['orders_count'].describe())\n",
    "\n",
    "# Дополнительно выводим 95-ый и 99-ый перцентиль для столбца 'total_orders'\n",
    "print(\"95-й перцентиль для столбца 'orders_count' составляет:\", user_profile['orders_count'].quantile(0.95))\n",
    "print(\"99-й перцентиль для столбца 'orders_count' составляет:\", user_profile['orders_count'].quantile(0.99))\n",
    "print(\"99.9-й перцентиль для столбца 'orders_count' составляет:\", user_profile['orders_count'].quantile(0.999))"
   ]
  },
  {
   "cell_type": "code",
   "execution_count": null,
   "id": "ff28dc17",
   "metadata": {
    "id": "ff28dc17"
   },
   "outputs": [],
   "source": [
    "user_profile = user_profile[user_profile['orders_count'] <= user_profile['orders_count'].quantile(0.95)]\n",
    "\n",
    "user_profile['orders_count'].describe()"
   ]
  },
  {
   "cell_type": "code",
   "execution_count": null,
   "id": "45209431",
   "metadata": {},
   "outputs": [],
   "source": [
    "print(user_profile['avg_tickets_count'].describe())\n",
    "print(user_profile['avg_tickets_count'].quantile([0.95, 0.99]))"
   ]
  },
  {
   "cell_type": "code",
   "execution_count": null,
   "id": "4e76be9b",
   "metadata": {},
   "outputs": [],
   "source": [
    "print(user_profile['avg_days_since_prev'].describe())\n",
    "print(user_profile['avg_days_since_prev'].quantile([0.25, 0.5, 0.75, 0.95, 0.99]))"
   ]
  },
  {
   "cell_type": "code",
   "execution_count": null,
   "id": "04bbe9e3",
   "metadata": {},
   "outputs": [],
   "source": []
  },
  {
   "cell_type": "markdown",
   "id": "5ee75a29",
   "metadata": {},
   "source": [
    "1. Общее число пользователей:\n",
    "В исходном датасете — 21,854 пользователя.\n",
    "2. Средняя выручка с одного заказа:\n",
    "По всему датасету заказов: ~555.57 руб.\n",
    "Усреднённая по пользователям: ~544.40 руб.\n",
    "3. Доля пользователей по числу заказов:\n",
    "Совершивших 2 и более заказов — 61.71%.\n",
    "Совершивших 5 и более заказов — 29.01%.\n",
    "\n",
    "В столбце orders_count обнаружены ярко выраженные выбросы: максимальное значение — 10,181 заказ, что значительно превышает 99-й перцентиль (152) и 95-й перцентиль (~31).\n",
    "Решение: фильтрация по 95-му перцентилю (оставляем пользователей с числом заказов ≤ 31). Это уменьшает среднее количество заказов и исключает аномальные значения.\n",
    "\n",
    "В столбце avg_tickets_count значения более однородны, максимум — 11 билетов, 95-й перцентиль — 4.25, 99-й — 5.33. Выбросы здесь есть, но они не столь экстремальны и могут быть естественными (например, крупные заказы).\n",
    "\n",
    "В столбце avg_days_since_prev количество пользователей с заполненным значением — меньше (около 8,000). Максимум — 148 дней, 95-й перцентиль — 102 дня, 99-й — 130 дней. Аномалий ярко не видно, значения распределены логично (больше времени между заказами — у реальных пользователей).\n"
   ]
  },
  {
   "cell_type": "markdown",
   "id": "fe584659",
   "metadata": {},
   "source": [
    "Данные достаточно объёмные и в целом показательные.\n",
    "\n",
    "Для анализа по количеству заказов целесообразно исключить явные выбросы (например, фильтрация по 95-му перцентилю).\n",
    "\n",
    "Среднее число билетов в заказе и среднее время между заказами выглядят естественными, без экстремальных выбросов, фильтрация по ним не обязательна, но при необходимости можно использовать 99-й перцентиль.\n",
    "\n",
    "После фильтрации сохраняется большая часть пользователей, что обеспечивает достаточный объём для анализа."
   ]
  },
  {
   "cell_type": "markdown",
   "id": "6yhiv3t1mPNU",
   "metadata": {
    "id": "6yhiv3t1mPNU"
   },
   "source": [
    "---\n",
    "\n",
    "### 4. Исследовательский анализ данных\n",
    "\n"
   ]
  },
  {
   "cell_type": "code",
   "execution_count": null,
   "id": "a8228a03",
   "metadata": {
    "id": "a8228a03"
   },
   "outputs": [],
   "source": [
    "features = ['first_event_type', 'first_device', 'first_region', 'first_service']\n"
   ]
  },
  {
   "cell_type": "code",
   "execution_count": null,
   "id": "b5e97b12",
   "metadata": {
    "id": "b5e97b12"
   },
   "outputs": [],
   "source": [
    "features = ['first_event_type', 'first_device', 'first_region', 'first_service']\n",
    "\n",
    "for feature in features:\n",
    "    segment_stats = (\n",
    "        user_profile.groupby(feature)['user_id']\n",
    "        .count()\n",
    "        .reset_index()\n",
    "        .rename(columns={'user_id': 'users_count'})\n",
    "        .sort_values('users_count', ascending=False)\n",
    "    )\n",
    "    \n",
    "    segment_stats['share_%'] = (segment_stats['users_count'] / segment_stats['users_count'].sum() * 100).round(2)\n",
    "    display(segment_stats.head(10))\n",
    "    \n",
    "    plt.figure(figsize=(10,4))\n",
    "    plt.bar(segment_stats[feature].astype(str).head(10), segment_stats['users_count'].head(10))\n",
    "    plt.title(f'Распределение пользователей по {feature}')\n",
    "    plt.xticks(rotation=45, ha='right')\n",
    "    plt.ylabel('Количество пользователей')\n",
    "    plt.show()"
   ]
  },
  {
   "cell_type": "markdown",
   "id": "fea7b36f",
   "metadata": {
    "id": "02aedf63"
   },
   "source": [
    "По типу первого мероприятия:\n",
    "Большинство пользователей пришли с концертов — 44,1%.\n",
    "На втором месте — категория «другое» с 25%.\n",
    "Театр — 19,5%.\n",
    "Остальные типы мероприятий (стендап, спорт, выставки, ёлки) суммарно занимают менее 10%.\n",
    "\n",
    "По типу устройства для первого заказа:\n",
    "83,3% пользователей сделали покупку с мобильных устройств.\n",
    "Только 16,7% — с десктопа.\n",
    "\n",
    "По региону первого мероприятия:\n",
    "Каменевский регион — 32,4% пользователей.\n",
    "Североярская область — 17,1%.\n",
    "Далее идут регионы с гораздо меньшими долями — менее 6% каждый.\n",
    "\n",
    "По билетному оператору первого заказа:\n",
    "Четыре крупнейших оператора («Билеты без проблем», «Мой билет», «Лови билет!», «Билеты в руки») привлекают около 60–65% новых пользователей.\n",
    "Остальные операторы обеспечивают гораздо меньшие доли (менее 6% каждый).\n",
    "\n",
    "Наблюдается высокая концентрация пользователей в нескольких ключевых сегментах — по типу мероприятия, устройству, региону и особенно билетному оператору. Это означает, что есть выраженные «точки входа» в сервис, и рост базы пользователей во многом зависит от успешности нескольких основных каналов и регионов."
   ]
  },
  {
   "cell_type": "code",
   "execution_count": null,
   "id": "548d068a",
   "metadata": {
    "id": "548d068a"
   },
   "outputs": [],
   "source": [
    "def retention_by_segment(df, column, top_n=10):\n",
    "    seg = (\n",
    "        df.groupby(column)\n",
    "          .agg(users=('user_id', 'nunique'),\n",
    "               returned=('is_two', 'mean'))\n",
    "          .reset_index()\n",
    "          .sort_values('users', ascending=False)\n",
    "    )\n",
    "    seg['returned_pct'] = seg['returned'] * 100\n",
    "    top_seg = seg.head(top_n)\n",
    "    \n",
    "    plt.figure(figsize=(10,5))\n",
    "    plt.barh(top_seg[column].astype(str), top_seg['returned_pct'], color='skyblue')\n",
    "    plt.gca().invert_yaxis()\n",
    "    plt.title(f'Доля возвратов пользователей по сегменту: {column}')\n",
    "    plt.xlabel('Доля пользователей, совершивших ≥2 заказа (%)')\n",
    "    plt.ylabel(column)\n",
    "    plt.show()\n",
    "    \n",
    "    display(top_seg)\n",
    "    return seg\n",
    "\n",
    "# Анализ по разным сегментам\n",
    "retention_device = retention_by_segment(user_profile, 'first_device')\n",
    "retention_service = retention_by_segment(user_profile, 'first_service')\n",
    "retention_region = retention_by_segment(user_profile, 'first_region')\n",
    "retention_genre  = retention_by_segment(user_profile, 'first_event_type')\n",
    "\n"
   ]
  },
  {
   "cell_type": "markdown",
   "id": "a0043725",
   "metadata": {
    "id": "27441ea8"
   },
   "source": [
    "По типу устройства (first_device)\n",
    "Доля возврата мобильных пользователей — около 53.6%.\n",
    "Доля возврата пользователей с десктопа — чуть выше, 55.8%.\n",
    "Вывод: Пользователи с десктопа чуть чаще возвращаются, хотя разница невелика.\n",
    "\n",
    "По билетному оператору (first_service)\n",
    "Самая высокая доля возвратов у сегментов «Край билетов» (57.2%), «Дом культуры» (56.4%) и «Весь в билетах» (56.1%).\n",
    "Самая низкая — у «Прачечной» (около 52%).\n",
    "Разница между операторами составляет порядка 5%, что говорит о том, что билетный оператор влияет на лояльность и возврат пользователя.\n",
    "\n",
    "По региону проведения мероприятия (first_region)\n",
    "Высокие доли возврата в регионах: «Светополянский округ» (59.1%), «Широковская область» (58.1%), «Шанырский регион» (56.7%).\n",
    "Низкие — в «Малиновоярском округе» и «Озернинском крае» (около 50%).\n",
    "Видим, что регион также существенно влияет на возвратность.\n",
    "\n",
    "По типу первого мероприятия (first_event_type)\n",
    "Наибольшая возвратность у сегмента «выставки» (57.9%) и «театр» (56.1%).\n",
    "Самая низкая — у «спорт» (50.1%) и «ёлки» (50.6%).\n",
    "Значит, интерес к определённым типам мероприятий повышает вероятность повторной покупки.\n",
    "\n",
    "Общий вывод:\n",
    "Есть выраженные успешные точки входа — сегменты с долей возвратов выше среднего (около 53-54% по всем пользователям).\n",
    "Размер сегментов тоже важен — например, «выставки» с 354 пользователями показывают высокий retention, но для статистической устойчивости стоит учитывать, что сегмент небольшой.\n",
    "Разные характеристики первого заказа — устройство, регион, тип события и билетный оператор — действительно влияют на вероятность возврата."
   ]
  },
  {
   "cell_type": "code",
   "execution_count": null,
   "id": "dcc3e24d",
   "metadata": {
    "id": "dcc3e24d"
   },
   "outputs": [],
   "source": [
    "genre_return = user_profile.groupby('first_event_type', as_index=False).agg(\n",
    "    users=('user_id', 'nunique'),\n",
    "    returned=('is_two', 'mean')\n",
    ")\n",
    "genre_return['returned_pct'] = genre_return['returned'] * 100\n",
    "display(genre_return)\n"
   ]
  },
  {
   "cell_type": "code",
   "execution_count": null,
   "id": "1f023ef3",
   "metadata": {
    "id": "1f023ef3"
   },
   "outputs": [],
   "source": [
    "region_return = user_profile.groupby('first_region', as_index=False).agg(\n",
    "    users=('user_id', 'nunique'),\n",
    "    returned=('is_two', 'mean')\n",
    ")\n",
    "region_return['returned_pct'] = region_return['returned'] * 100\n",
    "display(region_return)"
   ]
  },
  {
   "cell_type": "markdown",
   "id": "ad07deea",
   "metadata": {
    "id": "80eb681a"
   },
   "source": [
    "Гипотеза 1:\n",
    "Доля возврата по спорту — 50.14%\n",
    "Доля возврата по концертам — 54.48%\n",
    "\n",
    "Вывод: пользователи спортивных мероприятий возвращаются реже, чем пользователи, впервые купившие билеты на концерты. Гипотеза не подтверждается.\n",
    "\n",
    "Гипотеза 2:\n",
    "Самые крупные регионы (например, Каменевский регион — 5889 пользователей) имеют возврат около 54.7%\n",
    "Менее активные регионы с небольшим числом пользователей (например, Ягодиновская область — 57 пользователей) имеют возврат выше — 63.16%, а в некоторых очень маленьких регионах доля возврата варьируется сильно.\n",
    "\n",
    "Вывод: корреляция между числом пользователей в регионе и долей возврата неочевидна. В менее активных регионах возврат может быть даже выше, но из-за маленькой выборки эти значения нестабильны. Следовательно, гипотеза не подтверждается однозначно, требуется дополнительный анализ с учётом размера выборки."
   ]
  },
  {
   "cell_type": "markdown",
   "id": "88c3b292",
   "metadata": {
    "id": "88c3b292"
   },
   "source": [
    "---\n",
    "\n",
    "#### 4.2. Исследование поведения пользователей через показатели выручки и состава заказа\n",
    "\n",
    "\n"
   ]
  },
  {
   "cell_type": "code",
   "execution_count": null,
   "id": "a63c4025",
   "metadata": {
    "id": "a63c4025"
   },
   "outputs": [],
   "source": [
    "one_time_users = filtered_profile[filtered_profile['orders_count'] == 1]\n",
    "returned_users = filtered_profile[filtered_profile['orders_count'] >= 2]\n",
    "\n",
    "plt.figure(figsize=(10, 5))\n",
    "\n",
    "bins = 50  # фиксированное количество корзин\n",
    "\n",
    "plt.hist(one_time_users['avg_revenue_rub'], bins=bins, alpha=0.6, density=True, label='1 заказ')\n",
    "plt.hist(returned_users['avg_revenue_rub'], bins=bins, alpha=0.6, density=True, label='2+ заказа')\n",
    "\n",
    "plt.title('Распределение средней выручки с заказа по группам пользователей')\n",
    "plt.xlabel('Средняя выручка, ₽')\n",
    "plt.ylabel('Плотность')\n",
    "plt.legend()\n",
    "plt.grid(alpha=0.3)\n",
    "plt.show()\n"
   ]
  },
  {
   "cell_type": "markdown",
   "id": "15dfa96d",
   "metadata": {
    "id": "7c4c11d2"
   },
   "source": [
    "Пользователи с одним заказом обычно тратят от 0 до 500 рублей за заказ.\n",
    "Пользователи, которые делают два и более заказов, чаще тратят от 250 до 750 рублей.\n",
    "\n",
    "Разница в том, что у тех, кто возвращается, средний чек выше и распределён более равномерно. Их траты менее разбросаны и не так часто бывают очень низкими или очень высокими.\n",
    "\n",
    "Пользователи с одним заказом чаще покупают билеты на небольшие суммы — часто меньше 100 рублей, и среди них встречается больше тех, кто тратит очень мало или очень много.\n",
    "\n",
    "В целом, те, кто возвращается, приносят сервису больше денег и ведут себя более предсказуемо."
   ]
  },
  {
   "cell_type": "code",
   "execution_count": null,
   "id": "2ed4916f",
   "metadata": {
    "id": "2ed4916f"
   },
   "outputs": [],
   "source": [
    "moderate_users = filtered_profile[(filtered_profile['orders_count'] >= 2) & (filtered_profile['orders_count'] <= 4)]\n",
    "loyal_users = filtered_profile[filtered_profile['orders_count'] >= 5]"
   ]
  },
  {
   "cell_type": "code",
   "execution_count": null,
   "id": "c3bc4897",
   "metadata": {
    "id": "c3bc4897"
   },
   "outputs": [],
   "source": [
    "plt.figure(figsize=(10, 5))\n",
    "\n",
    "plt.hist(moderate_users['avg_revenue_rub'], bins=50, alpha=0.6, density=True, label='2–4 заказа')\n",
    "plt.hist(loyal_users['avg_revenue_rub'], bins=50, alpha=0.6, density=True, label='5+ заказов')\n",
    "\n",
    "plt.title('Распределение средней выручки с заказа по группам пользователей')\n",
    "plt.xlabel('Средняя выручка, ₽')\n",
    "plt.ylabel('Плотность')\n",
    "plt.legend()\n",
    "plt.grid(alpha=0.3)\n",
    "plt.show()"
   ]
  },
  {
   "cell_type": "code",
   "execution_count": null,
   "id": "1a101c4c",
   "metadata": {
    "id": "1a101c4c"
   },
   "outputs": [],
   "source": [
    "mean_moderate = moderate_users['avg_revenue_rub'].mean()\n",
    "mean_loyal = loyal_users['avg_revenue_rub'].mean()\n",
    "\n",
    "print(f\"Средняя выручка у пользователей с 2–4 заказами: {mean_moderate:.2f} ₽\")\n",
    "print(f\"Средняя выручка у пользователей с 5+ заказами: {mean_loyal:.2f} ₽\")"
   ]
  },
  {
   "cell_type": "markdown",
   "id": "4ec915af",
   "metadata": {},
   "source": [
    "Средняя выручка с заказа у пользователей с 2–4 и 5+ заказами практически не отличается (551.57 ₽ / 535.89 ₽).\n",
    "Разница составляет около 3% и статистически незначима.\n",
    "Это говорит о том, что лояльность пользователей (по числу заказов) не связана с размером среднего чека — пользователи совершают повторные покупки, но не начинают тратить существенно больше."
   ]
  },
  {
   "cell_type": "code",
   "execution_count": null,
   "id": "3cff9697",
   "metadata": {
    "id": "3cff9697"
   },
   "outputs": [],
   "source": [
    "def ticket_segment(x):\n",
    "    if x < 2:\n",
    "        return '1–2 билета'\n",
    "    elif x < 3:\n",
    "        return '2–3 билета'\n",
    "    elif x < 5:\n",
    "        return '3–5 билетов'\n",
    "    else:\n",
    "        return '5+ билетов'\n",
    "\n",
    "user_profile['ticket_segment'] = user_profile['avg_tickets_count'].apply(ticket_segment)\n"
   ]
  },
  {
   "cell_type": "code",
   "execution_count": null,
   "id": "a6619674",
   "metadata": {
    "id": "a6619674"
   },
   "outputs": [],
   "source": [
    "segment_stats = (\n",
    "    user_profile\n",
    "    .groupby('ticket_segment')\n",
    "    .agg(\n",
    "        users=('user_id', 'nunique'),\n",
    "        returned=('is_two', 'sum')\n",
    "    )\n",
    "    .reset_index()\n",
    ")\n",
    "segment_stats['returned_pct'] = (segment_stats['returned'] / segment_stats['users'] * 100).round(2)\n",
    "\n",
    "display(segment_stats)"
   ]
  },
  {
   "cell_type": "code",
   "execution_count": null,
   "id": "c2b400f2",
   "metadata": {
    "id": "c2b400f2"
   },
   "outputs": [],
   "source": [
    "plt.figure(figsize=(8, 5))\n",
    "plt.bar(segment_stats['ticket_segment'], segment_stats['returned_pct'], color='skyblue')\n",
    "plt.title('Доля вернувшихся пользователей по среднему числу билетов в заказе')\n",
    "plt.ylabel('Доля возвратов (%)')\n",
    "plt.xlabel('Среднее количество билетов в заказе')\n",
    "plt.grid(alpha=0.3)\n",
    "plt.show()"
   ]
  },
  {
   "cell_type": "markdown",
   "id": "4a118d08",
   "metadata": {},
   "source": [
    "Большинство пользователей покупают от 2 до 5 билетов за заказ — это основной сегмент.\n",
    "\n",
    "Сегмент с 2–3 билетами показывает самую высокую долю повторных покупок — 64.36%, что говорит о наибольшей лояльности.\n",
    "\n",
    "Пользователи с 1–2 и 3–5 билетами возвращаются реже — около 49%.\n",
    "\n",
    "Наименее лояльны покупатели с большим средним количеством билетов (5+), у них только 18.14% возвратов, возможно из-за специфики крупных покупок.\n",
    "\n",
    "Пользователи распределены неравномерно — большая часть в сегментах 2–5 билетов, меньшая — в крайних."
   ]
  },
  {
   "cell_type": "markdown",
   "id": "417e222d",
   "metadata": {
    "id": "417e222d"
   },
   "source": [
    "---\n",
    "\n",
    "#### 4.3. Исследование временных характеристик первого заказа и их влияния на повторные покупки\n",
    "\n"
   ]
  },
  {
   "cell_type": "code",
   "execution_count": null,
   "id": "1709f7ff",
   "metadata": {
    "id": "1709f7ff"
   },
   "outputs": [],
   "source": [
    "user_profile['first_order_date'] = pd.to_datetime(user_profile['first_order_date'])\n",
    "user_profile['first_order_dayofweek'] = user_profile['first_order_date'].dt.day_name()\n"
   ]
  },
  {
   "cell_type": "code",
   "execution_count": null,
   "id": "d7ea10ee",
   "metadata": {
    "id": "d7ea10ee"
   },
   "outputs": [],
   "source": [
    "day_stats = user_profile.groupby('first_order_dayofweek', as_index=False).agg(\n",
    "    users=('user_id', 'nunique'),\n",
    "    returned=('is_two', 'mean')\n",
    ")\n",
    "\n",
    "day_stats['returned_pct'] = day_stats['returned'] * 100\n",
    "days_order = ['Monday', 'Tuesday', 'Wednesday', 'Thursday', 'Friday', 'Saturday', 'Sunday']\n",
    "day_stats['day_num'] = day_stats['first_order_dayofweek'].apply(lambda x: days_order.index(x))\n",
    "day_stats = day_stats.sort_values('day_num')\n"
   ]
  },
  {
   "cell_type": "code",
   "execution_count": null,
   "id": "cc5ac042",
   "metadata": {
    "id": "cc5ac042"
   },
   "outputs": [],
   "source": [
    "plt.figure(figsize=(10,6))\n",
    "plt.bar(day_stats['first_order_dayofweek'], day_stats['returned_pct'], color='skyblue')\n",
    "plt.title('Returned Users Share by First Order Weekday')\n",
    "plt.xlabel('Day of Week')\n",
    "plt.ylabel('Returned Users Share (%)')\n",
    "plt.grid(axis='y', alpha=0.3)\n",
    "plt.show()\n",
    "\n",
    "\n",
    "display(day_stats[['first_order_dayofweek', 'users', 'returned_pct']])"
   ]
  },
  {
   "cell_type": "markdown",
   "id": "71d4e4b4",
   "metadata": {
    "id": "71d4e4b4"
   },
   "source": [
    "---\n",
    "\n",
    "**Задача 4.3.2.** Изучите, как средний интервал между заказами влияет на удержание клиентов.\n",
    "\n"
   ]
  },
  {
   "cell_type": "code",
   "execution_count": null,
   "id": "bc39c3f8",
   "metadata": {
    "id": "bc39c3f8"
   },
   "outputs": [],
   "source": [
    "df['days_between'] = df.groupby('user_id')['created_ts_msk'].diff().dt.days"
   ]
  },
  {
   "cell_type": "code",
   "execution_count": null,
   "id": "ceca9898",
   "metadata": {
    "id": "ceca9898"
   },
   "outputs": [],
   "source": [
    "user_stats = (\n",
    "    df.groupby('user_id')\n",
    "      .agg(order_count=('order_id', 'count'),\n",
    "           avg_interval=('days_between', 'mean'))\n",
    "      .reset_index()\n",
    ")\n",
    "user_stats['order_group'] = pd.cut(\n",
    "    user_stats['order_count'],\n",
    "    bins=[1, 4, user_stats['order_count'].max()],\n",
    "    labels=['2–4 заказа', '5+ заказов']\n",
    ")\n",
    "interval_stats = (\n",
    "    user_stats.groupby('order_group')['avg_interval']\n",
    "    .mean()\n",
    "    .round(1)\n",
    "    .reset_index(name='avg_interval_days')\n",
    ")\n",
    "display(interval_stats)"
   ]
  },
  {
   "cell_type": "code",
   "execution_count": null,
   "id": "f1471104",
   "metadata": {
    "id": "f1471104"
   },
   "outputs": [],
   "source": [
    "plt.figure(figsize=(8,5))\n",
    "user_stats.boxplot(column='avg_interval', by='order_group')\n",
    "plt.title('Распределение среднего интервала между заказами')\n",
    "plt.suptitle('')\n",
    "plt.xlabel('Группа по числу заказов')\n",
    "plt.ylabel('Средний интервал между заказами (дни)')\n",
    "plt.show()"
   ]
  },
  {
   "cell_type": "markdown",
   "id": "7981e627",
   "metadata": {},
   "source": [
    "Чем короче средний интервал между заказами, тем выше удержание.\n",
    "Пользователи, которые совершают покупки чаще (малые интервалы), с большей вероятностью продолжают пользоваться сервисом и достигают 5+ заказов.\n",
    "\n",
    "Редкие покупки (длинные интервалы) часто связаны с “одноразовыми” пользователями, которые теряют интерес или забывают о сервисе."
   ]
  },
  {
   "cell_type": "markdown",
   "id": "eb26eac5",
   "metadata": {
    "id": "eb26eac5"
   },
   "source": [
    "---\n",
    "\n",
    "#### 4.4. Корреляционный анализ количества покупок и признаков пользователя\n",
    "\n"
   ]
  },
  {
   "cell_type": "code",
   "execution_count": null,
   "id": "d2ca7ee0",
   "metadata": {
    "id": "d2ca7ee0"
   },
   "outputs": [],
   "source": [
    "user_profile['avg_days_since_prev'] = user_profile['avg_days_since_prev'].replace(-1, None)\n",
    "cat_cols = ['first_device', 'first_region', 'first_service', 'first_event_type']\n",
    "interval_cols = ['avg_revenue_rub', 'avg_tickets_count', 'avg_days_since_prev']\n",
    "for col in cat_cols:\n",
    "    user_profile[col] = user_profile[col].astype('category')\n",
    "corr_matrix = user_profile[\n",
    "    ['orders_count'] + cat_cols + interval_cols\n",
    "].phik_matrix(interval_cols=interval_cols)\n",
    "corr_with_orders = corr_matrix['orders_count'].drop('orders_count').sort_values(ascending=False)\n",
    "print(\"Корреляция признаков с количеством заказов (orders_count):\")\n",
    "display(corr_with_orders)\n"
   ]
  },
  {
   "cell_type": "code",
   "execution_count": null,
   "id": "669ae228",
   "metadata": {
    "id": "669ae228"
   },
   "outputs": [],
   "source": [
    "plt.figure(figsize=(5, 6))\n",
    "sns.heatmap(\n",
    "    corr_matrix[corr_matrix.index != 'orders_count'][['orders_count']]\n",
    "        .sort_values(by='orders_count', ascending=False),\n",
    "    annot=True, fmt='.2f', cmap='YlGnBu', linewidths=0.5, cbar=False\n",
    ")\n",
    "plt.title(\"Коэффициент φₖ между признаками профиля и числом заказов (orders_count)\")\n",
    "plt.yticks(rotation=0)\n",
    "plt.show()"
   ]
  },
  {
   "cell_type": "markdown",
   "id": "725e936e",
   "metadata": {
    "id": "c2053802"
   },
   "source": [
    "Основные признаки, связанные с количеством заказов:\n",
    "\n",
    "Средний интервал между заказами (avg_days_since_prev) — ключевой фактор удержания.\n",
    "\n",
    "Среднее количество билетов (avg_tickets_count) — отражает вовлечённость.\n",
    "\n",
    "Средний доход (avg_revenue_rub) — вторичный, но всё же значимый индикатор активности."
   ]
  },
  {
   "cell_type": "markdown",
   "id": "e7c496e9",
   "metadata": {
    "id": "e7c496e9"
   },
   "source": [
    "### 5. Общий вывод и рекомендации\n"
   ]
  },
  {
   "cell_type": "markdown",
   "id": "c5949e67",
   "metadata": {
    "id": "59be5935"
   },
   "source": [
    "Основные результаты анализа Всего пользователей: около 22 000. Всего заказов: ~292 000.\n",
    "\n",
    "Распределение по числу заказов неравномерное — большинство пользователей совершили только 1 заказ, меньшее количество — 2–4, и лишь небольшая доля — 5+ заказов.\n",
    "\n",
    "Интервалы между заказами: Средний интервал у пользователей с 2–4 заказами — значительно выше, чем у тех, кто сделал 5+ заказов. Чем короче средний интервал между заказами, тем выше вероятность удержания — активные пользователи совершают покупки чаще и остаются дольше.\n",
    "\n",
    "Анализ признаков профиля: Средняя выручка (avg_revenue_rub) и количество билетов (avg_tickets_count) показывают умеренную положительную связь с числом заказов. Это значит, что пользователи, совершающие более дорогие или многобилетовные покупки, чаще возвращаются. Интервал между покупками (avg_days_since_prev) также имеет заметную корреляцию — чем он меньше, тем выше активность. Тип устройства, регион, тип сервиса и тип первого события имеют низкую корреляцию с количеством заказов — они не являются определяющими факторами возврата.\n",
    "\n",
    "Ключевые зависимости (по результатам корреляционного анализа phi_k):\n",
    "\n",
    "1. avg_days_since_prev\t0.27 (наиболее сильная связь)\n",
    "2. avg_tickets_count\t0.21\n",
    "3. avg_revenue_rub\t0.16\n",
    "4. first_device, first_service, first_event_type, first_region\t< 0.03 — слабая связь\n",
    "\n",
    "Выводы о лояльности\n",
    "\n",
    "Основной фактор удержания — частота покупок (короткие интервалы между заказами).\n",
    "\n",
    "Пользователи, которые с самого начала делают заказы на несколько билетов или с высокой выручкой, демонстрируют большую склонность к повторным покупкам.\n",
    "\n",
    "Тип устройства и регион не оказывают существенного влияния — лояльность в большей степени определяется поведенческими, а не демографическими признаками.\n",
    "\n",
    "Лояльность пользователей Яндекс Афиши в первую очередь определяется поведенческими метриками — частотой и объёмом заказов, а не внешними характеристиками профиля. Работа с вовлечением и сокращением времени до повторной покупки может существенно повысить удержание и общий LTV клиентов.\n",
    "\n",
    "Рекомендации заказчику\n",
    "\n",
    "Фокус на удержание: Создать механики, стимулирующие повторные покупки в короткие сроки (например, персональные уведомления о скидках через 3–5 дней после покупки).\n",
    "\n",
    "Работа с сегментами: Сегмент 1 заказ — требует особого внимания (программы вовлечения, бонусы). Сегмент 2–4 — потенциально лояльная аудитория, стоит удерживать через рекомендации. Сегмент 5+ — ядро активных пользователей, которым можно предлагать премиальные акции и персональные предложения.\n",
    "\n",
    "Увеличение среднего чека: Продвигать пакеты билетов или групповые покупки, так как это коррелирует с числом заказов.\n",
    "\n",
    "Мониторинг частоты покупок: Включить в метрики retention-панели показатель “средний интервал между заказами” как ключевой индикатор лояльности.\n"
   ]
  }
 ],
 "metadata": {
  "ExecuteTimeLog": [
   {
    "duration": 5,
    "start_time": "2025-10-18T10:04:05.883Z"
   },
   {
    "duration": 34,
    "start_time": "2025-10-18T10:04:05.891Z"
   },
   {
    "duration": 5665,
    "start_time": "2025-10-18T10:04:05.927Z"
   },
   {
    "duration": 51,
    "start_time": "2025-10-18T10:08:56.595Z"
   },
   {
    "duration": 6060,
    "start_time": "2025-10-18T10:09:03.562Z"
   },
   {
    "duration": 281,
    "start_time": "2025-10-18T10:09:18.685Z"
   },
   {
    "duration": 0,
    "start_time": "2025-10-18T10:09:18.969Z"
   },
   {
    "duration": 213,
    "start_time": "2025-10-18T10:09:49.613Z"
   },
   {
    "duration": 3,
    "start_time": "2025-10-18T10:10:02.561Z"
   },
   {
    "duration": 5,
    "start_time": "2025-10-18T10:10:11.010Z"
   },
   {
    "duration": 247,
    "start_time": "2025-10-18T10:10:39.676Z"
   },
   {
    "duration": 30188,
    "start_time": "2025-10-18T10:12:33.219Z"
   },
   {
    "duration": 5418,
    "start_time": "2025-10-18T10:13:17.661Z"
   },
   {
    "duration": 5,
    "start_time": "2025-10-18T10:14:38.402Z"
   },
   {
    "duration": 213,
    "start_time": "2025-10-18T10:15:40.450Z"
   },
   {
    "duration": 6120,
    "start_time": "2025-10-18T10:16:10.208Z"
   },
   {
    "duration": 9278,
    "start_time": "2025-10-18T10:16:16.330Z"
   },
   {
    "duration": 534,
    "start_time": "2025-10-18T10:16:25.610Z"
   },
   {
    "duration": 248,
    "start_time": "2025-10-18T10:16:41.548Z"
   },
   {
    "duration": 242,
    "start_time": "2025-10-18T10:18:10.799Z"
   },
   {
    "duration": 118,
    "start_time": "2025-10-18T10:18:29.626Z"
   },
   {
    "duration": 277,
    "start_time": "2025-10-18T10:18:43.801Z"
   },
   {
    "duration": 277,
    "start_time": "2025-10-18T10:18:55.611Z"
   },
   {
    "duration": 404,
    "start_time": "2025-10-18T10:18:58.227Z"
   },
   {
    "duration": 470,
    "start_time": "2025-10-18T10:19:00.637Z"
   },
   {
    "duration": 59,
    "start_time": "2025-10-18T17:28:42.605Z"
   },
   {
    "duration": 6268,
    "start_time": "2025-10-18T17:28:50.329Z"
   },
   {
    "duration": 9179,
    "start_time": "2025-10-18T17:28:56.599Z"
   },
   {
    "duration": 20,
    "start_time": "2025-10-18T17:29:05.797Z"
   },
   {
    "duration": 15,
    "start_time": "2025-10-18T17:29:28.849Z"
   },
   {
    "duration": 14,
    "start_time": "2025-10-18T17:30:05.038Z"
   },
   {
    "duration": 18,
    "start_time": "2025-10-18T17:30:25.231Z"
   },
   {
    "duration": 10,
    "start_time": "2025-10-18T17:30:30.366Z"
   },
   {
    "duration": 14,
    "start_time": "2025-10-18T17:31:59.285Z"
   },
   {
    "duration": 13,
    "start_time": "2025-10-18T17:32:02.997Z"
   },
   {
    "duration": 101,
    "start_time": "2025-10-18T17:38:05.352Z"
   },
   {
    "duration": 1601,
    "start_time": "2025-10-18T17:39:31.727Z"
   },
   {
    "duration": 5928,
    "start_time": "2025-10-18T17:39:45.957Z"
   },
   {
    "duration": 10395,
    "start_time": "2025-10-18T17:39:51.888Z"
   },
   {
    "duration": 16,
    "start_time": "2025-10-18T17:40:02.284Z"
   },
   {
    "duration": 23,
    "start_time": "2025-10-18T17:40:02.302Z"
   },
   {
    "duration": 15,
    "start_time": "2025-10-18T17:40:02.328Z"
   },
   {
    "duration": 1447,
    "start_time": "2025-10-18T17:40:02.409Z"
   },
   {
    "duration": 0,
    "start_time": "2025-10-18T17:40:03.858Z"
   },
   {
    "duration": 0,
    "start_time": "2025-10-18T17:40:03.859Z"
   },
   {
    "duration": 1380,
    "start_time": "2025-10-18T17:40:12.375Z"
   },
   {
    "duration": 1402,
    "start_time": "2025-10-18T17:40:15.914Z"
   },
   {
    "duration": 1374,
    "start_time": "2025-10-18T17:40:21.809Z"
   },
   {
    "duration": 16,
    "start_time": "2025-10-18T17:40:28.164Z"
   },
   {
    "duration": 57,
    "start_time": "2025-10-18T17:40:32.622Z"
   },
   {
    "duration": 64,
    "start_time": "2025-10-18T17:42:15.248Z"
   },
   {
    "duration": 1365,
    "start_time": "2025-10-18T17:45:38.427Z"
   },
   {
    "duration": 1505,
    "start_time": "2025-10-18T17:45:46.514Z"
   },
   {
    "duration": 1309,
    "start_time": "2025-10-18T17:46:42.650Z"
   },
   {
    "duration": 1576,
    "start_time": "2025-10-18T17:48:24.585Z"
   },
   {
    "duration": 67,
    "start_time": "2025-10-18T17:49:08.514Z"
   },
   {
    "duration": 12,
    "start_time": "2025-10-18T17:50:06.067Z"
   },
   {
    "duration": 15,
    "start_time": "2025-10-18T17:50:41.960Z"
   },
   {
    "duration": 20,
    "start_time": "2025-10-18T17:51:52.752Z"
   },
   {
    "duration": 52,
    "start_time": "2025-10-20T06:26:40.066Z"
   },
   {
    "duration": 6213,
    "start_time": "2025-10-20T06:26:47.727Z"
   },
   {
    "duration": 10186,
    "start_time": "2025-10-20T06:26:53.943Z"
   },
   {
    "duration": 16,
    "start_time": "2025-10-20T06:27:04.131Z"
   },
   {
    "duration": 13,
    "start_time": "2025-10-20T06:27:04.150Z"
   },
   {
    "duration": 11,
    "start_time": "2025-10-20T06:27:04.165Z"
   },
   {
    "duration": 8,
    "start_time": "2025-10-20T06:27:04.178Z"
   },
   {
    "duration": 64,
    "start_time": "2025-10-20T06:27:04.188Z"
   },
   {
    "duration": 11,
    "start_time": "2025-10-20T06:27:04.254Z"
   },
   {
    "duration": 21,
    "start_time": "2025-10-20T06:27:04.267Z"
   },
   {
    "duration": 15,
    "start_time": "2025-10-20T06:31:37.076Z"
   },
   {
    "duration": 219,
    "start_time": "2025-10-20T06:35:34.416Z"
   },
   {
    "duration": 13,
    "start_time": "2025-10-20T06:43:21.650Z"
   },
   {
    "duration": 12,
    "start_time": "2025-10-20T06:43:45.382Z"
   },
   {
    "duration": 86,
    "start_time": "2025-10-20T06:44:17.630Z"
   },
   {
    "duration": 20,
    "start_time": "2025-10-20T06:44:32.440Z"
   },
   {
    "duration": 16,
    "start_time": "2025-10-20T06:45:02.964Z"
   },
   {
    "duration": 23,
    "start_time": "2025-10-20T06:46:15.233Z"
   },
   {
    "duration": 12,
    "start_time": "2025-10-20T06:48:21.319Z"
   },
   {
    "duration": 17,
    "start_time": "2025-10-20T06:49:06.427Z"
   },
   {
    "duration": 15,
    "start_time": "2025-10-20T06:49:13.804Z"
   },
   {
    "duration": 6368,
    "start_time": "2025-10-20T06:51:26.223Z"
   },
   {
    "duration": 10598,
    "start_time": "2025-10-20T06:51:32.594Z"
   },
   {
    "duration": 15,
    "start_time": "2025-10-20T06:51:43.194Z"
   },
   {
    "duration": 17,
    "start_time": "2025-10-20T06:51:43.211Z"
   },
   {
    "duration": 13,
    "start_time": "2025-10-20T06:51:43.229Z"
   },
   {
    "duration": 14,
    "start_time": "2025-10-20T06:51:43.243Z"
   },
   {
    "duration": 74,
    "start_time": "2025-10-20T06:51:43.258Z"
   },
   {
    "duration": 12,
    "start_time": "2025-10-20T06:51:43.334Z"
   },
   {
    "duration": 20,
    "start_time": "2025-10-20T06:51:43.347Z"
   },
   {
    "duration": 14,
    "start_time": "2025-10-20T06:51:43.370Z"
   },
   {
    "duration": 14,
    "start_time": "2025-10-20T06:51:43.386Z"
   },
   {
    "duration": 16,
    "start_time": "2025-10-20T06:51:43.401Z"
   },
   {
    "duration": 582,
    "start_time": "2025-10-20T06:51:44.767Z"
   },
   {
    "duration": 90,
    "start_time": "2025-10-20T06:53:27.228Z"
   },
   {
    "duration": 13,
    "start_time": "2025-10-20T06:53:37.182Z"
   },
   {
    "duration": 7,
    "start_time": "2025-10-20T06:54:16.709Z"
   },
   {
    "duration": 3,
    "start_time": "2025-10-20T06:54:41.899Z"
   },
   {
    "duration": 3,
    "start_time": "2025-10-20T06:55:31.558Z"
   },
   {
    "duration": 3,
    "start_time": "2025-10-20T06:55:37.088Z"
   },
   {
    "duration": 2951,
    "start_time": "2025-10-20T06:56:00.191Z"
   },
   {
    "duration": 4,
    "start_time": "2025-10-20T06:56:13.722Z"
   },
   {
    "duration": 6189,
    "start_time": "2025-10-20T06:58:48.038Z"
   },
   {
    "duration": 4,
    "start_time": "2025-10-20T06:59:07.660Z"
   },
   {
    "duration": 20,
    "start_time": "2025-10-20T06:59:07.666Z"
   },
   {
    "duration": 286,
    "start_time": "2025-10-20T06:59:07.688Z"
   },
   {
    "duration": 253,
    "start_time": "2025-10-20T06:59:07.976Z"
   },
   {
    "duration": 3,
    "start_time": "2025-10-20T06:59:08.231Z"
   },
   {
    "duration": 88,
    "start_time": "2025-10-20T06:59:08.236Z"
   },
   {
    "duration": 12,
    "start_time": "2025-10-20T06:59:08.325Z"
   },
   {
    "duration": 6092,
    "start_time": "2025-10-20T06:59:08.339Z"
   },
   {
    "duration": 302,
    "start_time": "2025-10-20T06:59:14.433Z"
   },
   {
    "duration": 47,
    "start_time": "2025-10-20T06:59:14.737Z"
   },
   {
    "duration": 215,
    "start_time": "2025-10-20T06:59:14.785Z"
   },
   {
    "duration": 708,
    "start_time": "2025-10-20T06:59:15.003Z"
   },
   {
    "duration": 109,
    "start_time": "2025-10-20T06:59:15.714Z"
   },
   {
    "duration": 4,
    "start_time": "2025-10-20T06:59:15.825Z"
   },
   {
    "duration": 2797,
    "start_time": "2025-10-20T06:59:18.860Z"
   },
   {
    "duration": 16,
    "start_time": "2025-10-20T06:59:33.985Z"
   },
   {
    "duration": 274,
    "start_time": "2025-10-20T06:59:37.522Z"
   },
   {
    "duration": 249,
    "start_time": "2025-10-20T06:59:51.743Z"
   },
   {
    "duration": 3,
    "start_time": "2025-10-20T07:03:41.314Z"
   },
   {
    "duration": 65,
    "start_time": "2025-10-20T07:03:45.316Z"
   },
   {
    "duration": 12,
    "start_time": "2025-10-20T07:03:52.092Z"
   },
   {
    "duration": 5950,
    "start_time": "2025-10-20T07:04:11.183Z"
   },
   {
    "duration": 13,
    "start_time": "2025-10-20T07:04:33.805Z"
   },
   {
    "duration": 8224,
    "start_time": "2025-10-20T07:04:36.591Z"
   },
   {
    "duration": 350,
    "start_time": "2025-10-20T07:04:50.949Z"
   },
   {
    "duration": 355,
    "start_time": "2025-10-20T07:05:18.166Z"
   },
   {
    "duration": 194,
    "start_time": "2025-10-20T07:05:42.406Z"
   },
   {
    "duration": 594,
    "start_time": "2025-10-20T07:05:54.519Z"
   },
   {
    "duration": 95,
    "start_time": "2025-10-20T07:06:03.422Z"
   },
   {
    "duration": 4,
    "start_time": "2025-10-20T07:06:08.868Z"
   },
   {
    "duration": 258,
    "start_time": "2025-10-20T07:12:02.815Z"
   },
   {
    "duration": 4,
    "start_time": "2025-10-20T07:12:06.649Z"
   },
   {
    "duration": 608,
    "start_time": "2025-10-20T07:12:12.429Z"
   },
   {
    "duration": 612,
    "start_time": "2025-10-20T07:12:58.213Z"
   },
   {
    "duration": 19,
    "start_time": "2025-10-20T07:13:01.138Z"
   },
   {
    "duration": 31,
    "start_time": "2025-10-20T07:14:12.478Z"
   },
   {
    "duration": 45,
    "start_time": "2025-10-20T07:14:26.241Z"
   },
   {
    "duration": 635,
    "start_time": "2025-10-20T07:15:08.586Z"
   },
   {
    "duration": 10,
    "start_time": "2025-10-20T07:15:30.751Z"
   },
   {
    "duration": 9,
    "start_time": "2025-10-20T07:15:36.958Z"
   },
   {
    "duration": 7661,
    "start_time": "2025-10-20T07:16:31.113Z"
   },
   {
    "duration": 16440,
    "start_time": "2025-10-20T07:16:38.776Z"
   },
   {
    "duration": 3,
    "start_time": "2025-10-20T07:16:55.218Z"
   },
   {
    "duration": 35,
    "start_time": "2025-10-20T07:16:55.223Z"
   },
   {
    "duration": 274,
    "start_time": "2025-10-20T07:16:55.260Z"
   },
   {
    "duration": 278,
    "start_time": "2025-10-20T07:16:55.537Z"
   },
   {
    "duration": 4,
    "start_time": "2025-10-20T07:16:55.817Z"
   },
   {
    "duration": 80,
    "start_time": "2025-10-20T07:16:55.822Z"
   },
   {
    "duration": 11,
    "start_time": "2025-10-20T07:16:55.904Z"
   },
   {
    "duration": 6158,
    "start_time": "2025-10-20T07:16:55.918Z"
   },
   {
    "duration": 313,
    "start_time": "2025-10-20T07:17:02.078Z"
   },
   {
    "duration": 45,
    "start_time": "2025-10-20T07:17:02.393Z"
   },
   {
    "duration": 214,
    "start_time": "2025-10-20T07:17:02.456Z"
   },
   {
    "duration": 694,
    "start_time": "2025-10-20T07:17:02.672Z"
   },
   {
    "duration": 101,
    "start_time": "2025-10-20T07:17:03.368Z"
   },
   {
    "duration": 5,
    "start_time": "2025-10-20T07:17:03.471Z"
   },
   {
    "duration": 258,
    "start_time": "2025-10-20T07:17:03.478Z"
   },
   {
    "duration": 5,
    "start_time": "2025-10-20T07:17:03.738Z"
   },
   {
    "duration": 697,
    "start_time": "2025-10-20T07:17:03.745Z"
   },
   {
    "duration": 24,
    "start_time": "2025-10-20T07:17:04.444Z"
   },
   {
    "duration": 70,
    "start_time": "2025-10-20T07:17:04.507Z"
   },
   {
    "duration": 663,
    "start_time": "2025-10-20T07:17:04.579Z"
   },
   {
    "duration": 89,
    "start_time": "2025-10-20T07:17:05.244Z"
   },
   {
    "duration": 0,
    "start_time": "2025-10-20T07:17:05.335Z"
   },
   {
    "duration": 714,
    "start_time": "2025-10-20T07:17:08.119Z"
   },
   {
    "duration": 10,
    "start_time": "2025-10-20T07:17:13.819Z"
   },
   {
    "duration": 8,
    "start_time": "2025-10-20T07:18:49.783Z"
   },
   {
    "duration": 11,
    "start_time": "2025-10-20T07:19:05.718Z"
   },
   {
    "duration": 41,
    "start_time": "2025-10-20T07:19:36.319Z"
   },
   {
    "duration": 3,
    "start_time": "2025-10-20T07:24:33.731Z"
   },
   {
    "duration": 264,
    "start_time": "2025-10-20T07:25:32.427Z"
   },
   {
    "duration": 249,
    "start_time": "2025-10-20T07:25:43.179Z"
   },
   {
    "duration": 260,
    "start_time": "2025-10-20T07:25:59.988Z"
   },
   {
    "duration": 263,
    "start_time": "2025-10-20T07:26:58.755Z"
   },
   {
    "duration": 285,
    "start_time": "2025-10-20T07:27:35.630Z"
   },
   {
    "duration": 52,
    "start_time": "2025-10-20T15:05:51.558Z"
   },
   {
    "duration": 7075,
    "start_time": "2025-10-20T15:05:57.769Z"
   },
   {
    "duration": 12801,
    "start_time": "2025-10-20T15:06:04.846Z"
   },
   {
    "duration": 3,
    "start_time": "2025-10-20T15:06:17.648Z"
   },
   {
    "duration": 17,
    "start_time": "2025-10-20T15:06:17.653Z"
   },
   {
    "duration": 262,
    "start_time": "2025-10-20T15:06:17.672Z"
   },
   {
    "duration": 242,
    "start_time": "2025-10-20T15:06:17.936Z"
   },
   {
    "duration": 3,
    "start_time": "2025-10-20T15:06:18.180Z"
   },
   {
    "duration": 74,
    "start_time": "2025-10-20T15:06:18.185Z"
   },
   {
    "duration": 10,
    "start_time": "2025-10-20T15:06:18.260Z"
   },
   {
    "duration": 5584,
    "start_time": "2025-10-20T15:06:18.273Z"
   },
   {
    "duration": 282,
    "start_time": "2025-10-20T15:06:23.859Z"
   },
   {
    "duration": 36,
    "start_time": "2025-10-20T15:06:24.143Z"
   },
   {
    "duration": 213,
    "start_time": "2025-10-20T15:06:24.180Z"
   },
   {
    "duration": 604,
    "start_time": "2025-10-20T15:06:24.395Z"
   },
   {
    "duration": 83,
    "start_time": "2025-10-20T15:06:25.000Z"
   },
   {
    "duration": 3,
    "start_time": "2025-10-20T15:06:25.085Z"
   },
   {
    "duration": 210,
    "start_time": "2025-10-20T15:06:25.105Z"
   },
   {
    "duration": 518,
    "start_time": "2025-10-20T15:06:25.317Z"
   },
   {
    "duration": 15,
    "start_time": "2025-10-20T15:06:25.837Z"
   },
   {
    "duration": 26,
    "start_time": "2025-10-20T15:06:25.853Z"
   },
   {
    "duration": 59,
    "start_time": "2025-10-20T15:06:25.880Z"
   },
   {
    "duration": 672,
    "start_time": "2025-10-20T15:06:25.941Z"
   },
   {
    "duration": 37,
    "start_time": "2025-10-20T15:06:26.614Z"
   },
   {
    "duration": 3,
    "start_time": "2025-10-20T15:06:26.652Z"
   },
   {
    "duration": 255,
    "start_time": "2025-10-20T15:06:26.656Z"
   },
   {
    "duration": 714,
    "start_time": "2025-10-20T15:06:27.648Z"
   },
   {
    "duration": 94,
    "start_time": "2025-10-20T15:07:24.242Z"
   },
   {
    "duration": 837,
    "start_time": "2025-10-20T15:07:38.388Z"
   },
   {
    "duration": 718,
    "start_time": "2025-10-20T15:07:50.887Z"
   },
   {
    "duration": 24,
    "start_time": "2025-10-20T15:11:33.452Z"
   },
   {
    "duration": 25,
    "start_time": "2025-10-20T15:11:36.988Z"
   },
   {
    "duration": 31,
    "start_time": "2025-10-20T15:12:21.981Z"
   },
   {
    "duration": 30,
    "start_time": "2025-10-20T15:12:25.296Z"
   },
   {
    "duration": 329,
    "start_time": "2025-10-20T15:16:29.436Z"
   },
   {
    "duration": 351,
    "start_time": "2025-10-20T15:17:58.170Z"
   },
   {
    "duration": 468,
    "start_time": "2025-10-20T15:18:20.545Z"
   },
   {
    "duration": 384,
    "start_time": "2025-10-20T15:19:36.155Z"
   },
   {
    "duration": 11,
    "start_time": "2025-10-20T15:20:22.504Z"
   },
   {
    "duration": 339,
    "start_time": "2025-10-20T15:20:24.100Z"
   },
   {
    "duration": 5,
    "start_time": "2025-10-20T15:20:27.519Z"
   },
   {
    "duration": 10,
    "start_time": "2025-10-20T15:23:12.642Z"
   },
   {
    "duration": 33,
    "start_time": "2025-10-20T15:23:14.411Z"
   },
   {
    "duration": 137,
    "start_time": "2025-10-20T15:23:25.599Z"
   },
   {
    "duration": 1545,
    "start_time": "2025-10-20T15:27:44.243Z"
   },
   {
    "duration": 12,
    "start_time": "2025-10-20T15:27:46.113Z"
   },
   {
    "duration": 9,
    "start_time": "2025-10-20T15:27:51.353Z"
   },
   {
    "duration": 6849,
    "start_time": "2025-10-20T15:28:00.007Z"
   },
   {
    "duration": 12716,
    "start_time": "2025-10-20T15:28:06.859Z"
   },
   {
    "duration": 4,
    "start_time": "2025-10-20T15:28:19.577Z"
   },
   {
    "duration": 54,
    "start_time": "2025-10-20T15:28:19.583Z"
   },
   {
    "duration": 272,
    "start_time": "2025-10-20T15:28:19.639Z"
   },
   {
    "duration": 243,
    "start_time": "2025-10-20T15:28:19.912Z"
   },
   {
    "duration": 3,
    "start_time": "2025-10-20T15:28:20.157Z"
   },
   {
    "duration": 68,
    "start_time": "2025-10-20T15:28:20.161Z"
   },
   {
    "duration": 10,
    "start_time": "2025-10-20T15:28:20.231Z"
   },
   {
    "duration": 5813,
    "start_time": "2025-10-20T15:28:20.243Z"
   },
   {
    "duration": 284,
    "start_time": "2025-10-20T15:28:26.058Z"
   },
   {
    "duration": 40,
    "start_time": "2025-10-20T15:28:26.344Z"
   },
   {
    "duration": 221,
    "start_time": "2025-10-20T15:28:26.385Z"
   },
   {
    "duration": 638,
    "start_time": "2025-10-20T15:28:26.608Z"
   },
   {
    "duration": 100,
    "start_time": "2025-10-20T15:28:27.248Z"
   },
   {
    "duration": 3,
    "start_time": "2025-10-20T15:28:27.350Z"
   },
   {
    "duration": 235,
    "start_time": "2025-10-20T15:28:27.355Z"
   },
   {
    "duration": 629,
    "start_time": "2025-10-20T15:28:27.594Z"
   },
   {
    "duration": 16,
    "start_time": "2025-10-20T15:28:28.225Z"
   },
   {
    "duration": 23,
    "start_time": "2025-10-20T15:28:28.243Z"
   },
   {
    "duration": 67,
    "start_time": "2025-10-20T15:28:28.268Z"
   },
   {
    "duration": 672,
    "start_time": "2025-10-20T15:28:28.337Z"
   },
   {
    "duration": 39,
    "start_time": "2025-10-20T15:28:29.010Z"
   },
   {
    "duration": 6,
    "start_time": "2025-10-20T15:28:29.051Z"
   },
   {
    "duration": 266,
    "start_time": "2025-10-20T15:28:29.059Z"
   },
   {
    "duration": 766,
    "start_time": "2025-10-20T15:28:29.327Z"
   },
   {
    "duration": 34,
    "start_time": "2025-10-20T15:28:30.105Z"
   },
   {
    "duration": 32,
    "start_time": "2025-10-20T15:28:30.143Z"
   },
   {
    "duration": 390,
    "start_time": "2025-10-20T15:28:30.176Z"
   },
   {
    "duration": 11,
    "start_time": "2025-10-20T15:28:30.568Z"
   },
   {
    "duration": 361,
    "start_time": "2025-10-20T15:28:30.581Z"
   },
   {
    "duration": 5,
    "start_time": "2025-10-20T15:28:30.944Z"
   },
   {
    "duration": 32,
    "start_time": "2025-10-20T15:28:30.951Z"
   },
   {
    "duration": 107,
    "start_time": "2025-10-20T15:28:30.984Z"
   },
   {
    "duration": 140,
    "start_time": "2025-10-20T15:28:31.093Z"
   },
   {
    "duration": 1464,
    "start_time": "2025-10-20T15:28:31.235Z"
   },
   {
    "duration": 0,
    "start_time": "2025-10-20T15:28:32.702Z"
   },
   {
    "duration": 0,
    "start_time": "2025-10-20T15:28:32.704Z"
   },
   {
    "duration": 13,
    "start_time": "2025-10-20T15:28:38.137Z"
   },
   {
    "duration": 13,
    "start_time": "2025-10-20T15:28:41.370Z"
   },
   {
    "duration": 16,
    "start_time": "2025-10-20T15:31:12.605Z"
   },
   {
    "duration": 3931,
    "start_time": "2025-10-20T15:31:20.917Z"
   },
   {
    "duration": 198,
    "start_time": "2025-10-20T15:31:24.851Z"
   },
   {
    "duration": 144,
    "start_time": "2025-10-20T15:31:27.438Z"
   },
   {
    "duration": 8682,
    "start_time": "2025-10-20T15:35:46.783Z"
   },
   {
    "duration": 50,
    "start_time": "2025-10-20T15:38:13.966Z"
   },
   {
    "duration": 6,
    "start_time": "2025-10-20T15:38:17.786Z"
   },
   {
    "duration": 7,
    "start_time": "2025-10-20T15:38:21.937Z"
   },
   {
    "duration": 9404,
    "start_time": "2025-10-20T15:38:28.443Z"
   },
   {
    "duration": 12423,
    "start_time": "2025-10-20T15:38:37.849Z"
   },
   {
    "duration": 3,
    "start_time": "2025-10-20T15:38:50.274Z"
   },
   {
    "duration": 28,
    "start_time": "2025-10-20T15:38:50.278Z"
   },
   {
    "duration": 252,
    "start_time": "2025-10-20T15:38:50.309Z"
   },
   {
    "duration": 233,
    "start_time": "2025-10-20T15:38:50.562Z"
   },
   {
    "duration": 9,
    "start_time": "2025-10-20T15:38:50.797Z"
   },
   {
    "duration": 98,
    "start_time": "2025-10-20T15:38:50.808Z"
   },
   {
    "duration": 11,
    "start_time": "2025-10-20T15:38:50.907Z"
   },
   {
    "duration": 5646,
    "start_time": "2025-10-20T15:38:50.919Z"
   },
   {
    "duration": 282,
    "start_time": "2025-10-20T15:38:56.567Z"
   },
   {
    "duration": 39,
    "start_time": "2025-10-20T15:38:56.851Z"
   },
   {
    "duration": 195,
    "start_time": "2025-10-20T15:38:56.891Z"
   },
   {
    "duration": 612,
    "start_time": "2025-10-20T15:38:57.089Z"
   },
   {
    "duration": 83,
    "start_time": "2025-10-20T15:38:57.703Z"
   },
   {
    "duration": 4,
    "start_time": "2025-10-20T15:38:57.788Z"
   },
   {
    "duration": 212,
    "start_time": "2025-10-20T15:38:57.806Z"
   },
   {
    "duration": 531,
    "start_time": "2025-10-20T15:38:58.020Z"
   },
   {
    "duration": 17,
    "start_time": "2025-10-20T15:38:58.552Z"
   },
   {
    "duration": 37,
    "start_time": "2025-10-20T15:38:58.570Z"
   },
   {
    "duration": 41,
    "start_time": "2025-10-20T15:38:58.609Z"
   },
   {
    "duration": 655,
    "start_time": "2025-10-20T15:38:58.652Z"
   },
   {
    "duration": 37,
    "start_time": "2025-10-20T15:38:59.309Z"
   },
   {
    "duration": 3,
    "start_time": "2025-10-20T15:38:59.347Z"
   },
   {
    "duration": 241,
    "start_time": "2025-10-20T15:38:59.352Z"
   },
   {
    "duration": 713,
    "start_time": "2025-10-20T15:38:59.595Z"
   },
   {
    "duration": 43,
    "start_time": "2025-10-20T15:39:00.310Z"
   },
   {
    "duration": 60,
    "start_time": "2025-10-20T15:39:00.356Z"
   },
   {
    "duration": 350,
    "start_time": "2025-10-20T15:39:00.418Z"
   },
   {
    "duration": 11,
    "start_time": "2025-10-20T15:39:00.770Z"
   },
   {
    "duration": 355,
    "start_time": "2025-10-20T15:39:00.782Z"
   },
   {
    "duration": 5,
    "start_time": "2025-10-20T15:39:01.139Z"
   },
   {
    "duration": 34,
    "start_time": "2025-10-20T15:39:01.146Z"
   },
   {
    "duration": 27,
    "start_time": "2025-10-20T15:39:01.182Z"
   },
   {
    "duration": 244,
    "start_time": "2025-10-20T15:39:01.210Z"
   },
   {
    "duration": 3785,
    "start_time": "2025-10-20T15:39:01.456Z"
   },
   {
    "duration": 173,
    "start_time": "2025-10-20T15:39:05.242Z"
   },
   {
    "duration": 151,
    "start_time": "2025-10-20T15:39:05.417Z"
   },
   {
    "duration": 52,
    "start_time": "2025-10-20T15:41:18.586Z"
   },
   {
    "duration": 8465,
    "start_time": "2025-10-20T15:41:27.517Z"
   },
   {
    "duration": 13413,
    "start_time": "2025-10-20T15:41:35.983Z"
   },
   {
    "duration": 9,
    "start_time": "2025-10-20T15:41:49.397Z"
   },
   {
    "duration": 15,
    "start_time": "2025-10-20T15:41:49.408Z"
   },
   {
    "duration": 263,
    "start_time": "2025-10-20T15:41:49.425Z"
   },
   {
    "duration": 239,
    "start_time": "2025-10-20T15:41:49.690Z"
   },
   {
    "duration": 3,
    "start_time": "2025-10-20T15:41:49.930Z"
   },
   {
    "duration": 65,
    "start_time": "2025-10-20T15:41:49.934Z"
   },
   {
    "duration": 9,
    "start_time": "2025-10-20T15:41:50.001Z"
   },
   {
    "duration": 5641,
    "start_time": "2025-10-20T15:41:50.012Z"
   },
   {
    "duration": 273,
    "start_time": "2025-10-20T15:41:55.654Z"
   },
   {
    "duration": 119,
    "start_time": "2025-10-20T15:41:55.928Z"
   },
   {
    "duration": 186,
    "start_time": "2025-10-20T15:41:56.048Z"
   },
   {
    "duration": 627,
    "start_time": "2025-10-20T15:41:56.235Z"
   },
   {
    "duration": 88,
    "start_time": "2025-10-20T15:41:56.864Z"
   },
   {
    "duration": 4,
    "start_time": "2025-10-20T15:41:56.953Z"
   },
   {
    "duration": 216,
    "start_time": "2025-10-20T15:41:56.958Z"
   },
   {
    "duration": 537,
    "start_time": "2025-10-20T15:41:57.176Z"
   },
   {
    "duration": 16,
    "start_time": "2025-10-20T15:41:57.714Z"
   },
   {
    "duration": 22,
    "start_time": "2025-10-20T15:41:57.731Z"
   },
   {
    "duration": 64,
    "start_time": "2025-10-20T15:41:57.755Z"
   },
   {
    "duration": 598,
    "start_time": "2025-10-20T15:41:57.821Z"
   },
   {
    "duration": 37,
    "start_time": "2025-10-20T15:41:58.421Z"
   },
   {
    "duration": 3,
    "start_time": "2025-10-20T15:41:58.459Z"
   },
   {
    "duration": 275,
    "start_time": "2025-10-20T15:41:58.463Z"
   },
   {
    "duration": 717,
    "start_time": "2025-10-20T15:41:58.740Z"
   },
   {
    "duration": 33,
    "start_time": "2025-10-20T15:41:59.459Z"
   },
   {
    "duration": 37,
    "start_time": "2025-10-20T15:41:59.495Z"
   },
   {
    "duration": 429,
    "start_time": "2025-10-20T15:41:59.534Z"
   },
   {
    "duration": 10,
    "start_time": "2025-10-20T15:41:59.965Z"
   },
   {
    "duration": 351,
    "start_time": "2025-10-20T15:41:59.976Z"
   },
   {
    "duration": 5,
    "start_time": "2025-10-20T15:42:00.329Z"
   },
   {
    "duration": 16,
    "start_time": "2025-10-20T15:42:00.336Z"
   },
   {
    "duration": 52,
    "start_time": "2025-10-20T15:42:00.355Z"
   },
   {
    "duration": 148,
    "start_time": "2025-10-20T15:42:00.409Z"
   },
   {
    "duration": 3851,
    "start_time": "2025-10-20T15:42:00.559Z"
   },
   {
    "duration": 179,
    "start_time": "2025-10-20T15:42:04.412Z"
   },
   {
    "duration": 157,
    "start_time": "2025-10-20T15:42:04.593Z"
   },
   {
    "duration": 8463,
    "start_time": "2025-10-20T15:42:30.612Z"
   },
   {
    "duration": 13608,
    "start_time": "2025-10-20T15:42:39.077Z"
   },
   {
    "duration": 3,
    "start_time": "2025-10-20T15:42:52.687Z"
   },
   {
    "duration": 22,
    "start_time": "2025-10-20T15:42:52.692Z"
   },
   {
    "duration": 253,
    "start_time": "2025-10-20T15:42:52.715Z"
   },
   {
    "duration": 236,
    "start_time": "2025-10-20T15:42:52.970Z"
   },
   {
    "duration": 4,
    "start_time": "2025-10-20T15:42:53.207Z"
   },
   {
    "duration": 83,
    "start_time": "2025-10-20T15:42:53.212Z"
   },
   {
    "duration": 10,
    "start_time": "2025-10-20T15:42:53.297Z"
   },
   {
    "duration": 5707,
    "start_time": "2025-10-20T15:42:53.309Z"
   },
   {
    "duration": 276,
    "start_time": "2025-10-20T15:42:59.018Z"
   },
   {
    "duration": 114,
    "start_time": "2025-10-20T15:42:59.304Z"
   },
   {
    "duration": 190,
    "start_time": "2025-10-20T15:42:59.420Z"
   },
   {
    "duration": 575,
    "start_time": "2025-10-20T15:42:59.612Z"
   },
   {
    "duration": 93,
    "start_time": "2025-10-20T15:43:00.189Z"
   },
   {
    "duration": 4,
    "start_time": "2025-10-20T15:43:00.285Z"
   },
   {
    "duration": 242,
    "start_time": "2025-10-20T15:43:00.307Z"
   },
   {
    "duration": 561,
    "start_time": "2025-10-20T15:43:00.551Z"
   },
   {
    "duration": 16,
    "start_time": "2025-10-20T15:43:01.113Z"
   },
   {
    "duration": 59,
    "start_time": "2025-10-20T15:43:01.131Z"
   },
   {
    "duration": 40,
    "start_time": "2025-10-20T15:43:01.191Z"
   },
   {
    "duration": 598,
    "start_time": "2025-10-20T15:43:01.233Z"
   },
   {
    "duration": 36,
    "start_time": "2025-10-20T15:43:01.833Z"
   },
   {
    "duration": 2,
    "start_time": "2025-10-20T15:43:01.871Z"
   },
   {
    "duration": 264,
    "start_time": "2025-10-20T15:43:01.875Z"
   },
   {
    "duration": 729,
    "start_time": "2025-10-20T15:43:02.141Z"
   },
   {
    "duration": 45,
    "start_time": "2025-10-20T15:43:02.872Z"
   },
   {
    "duration": 27,
    "start_time": "2025-10-20T15:43:02.920Z"
   },
   {
    "duration": 445,
    "start_time": "2025-10-20T15:43:02.949Z"
   },
   {
    "duration": 17,
    "start_time": "2025-10-20T15:43:03.395Z"
   },
   {
    "duration": 312,
    "start_time": "2025-10-20T15:43:03.414Z"
   },
   {
    "duration": 5,
    "start_time": "2025-10-20T15:43:03.727Z"
   },
   {
    "duration": 19,
    "start_time": "2025-10-20T15:43:03.733Z"
   },
   {
    "duration": 30,
    "start_time": "2025-10-20T15:43:03.753Z"
   },
   {
    "duration": 140,
    "start_time": "2025-10-20T15:43:03.785Z"
   },
   {
    "duration": 3728,
    "start_time": "2025-10-20T15:43:03.926Z"
   },
   {
    "duration": 177,
    "start_time": "2025-10-20T15:43:07.655Z"
   },
   {
    "duration": 172,
    "start_time": "2025-10-20T15:43:07.833Z"
   },
   {
    "duration": 1539,
    "start_time": "2025-10-20T15:45:04.648Z"
   },
   {
    "duration": 9,
    "start_time": "2025-10-20T16:05:09.715Z"
   },
   {
    "duration": 8664,
    "start_time": "2025-10-20T16:07:20.186Z"
   },
   {
    "duration": 12261,
    "start_time": "2025-10-20T16:07:28.852Z"
   },
   {
    "duration": 3,
    "start_time": "2025-10-20T16:07:41.115Z"
   },
   {
    "duration": 15,
    "start_time": "2025-10-20T16:07:41.120Z"
   },
   {
    "duration": 260,
    "start_time": "2025-10-20T16:07:41.136Z"
   },
   {
    "duration": 228,
    "start_time": "2025-10-20T16:07:41.398Z"
   },
   {
    "duration": 3,
    "start_time": "2025-10-20T16:07:41.628Z"
   },
   {
    "duration": 446,
    "start_time": "2025-10-20T16:07:41.633Z"
   },
   {
    "duration": 9,
    "start_time": "2025-10-20T16:07:42.081Z"
   },
   {
    "duration": 6419,
    "start_time": "2025-10-20T16:07:42.093Z"
   },
   {
    "duration": 276,
    "start_time": "2025-10-20T16:07:48.513Z"
   },
   {
    "duration": 116,
    "start_time": "2025-10-20T16:07:48.790Z"
   },
   {
    "duration": 179,
    "start_time": "2025-10-20T16:07:48.907Z"
   },
   {
    "duration": 588,
    "start_time": "2025-10-20T16:07:49.088Z"
   },
   {
    "duration": 87,
    "start_time": "2025-10-20T16:07:49.678Z"
   },
   {
    "duration": 3,
    "start_time": "2025-10-20T16:07:49.767Z"
   },
   {
    "duration": 241,
    "start_time": "2025-10-20T16:07:49.772Z"
   },
   {
    "duration": 501,
    "start_time": "2025-10-20T16:07:50.014Z"
   },
   {
    "duration": 14,
    "start_time": "2025-10-20T16:07:50.517Z"
   },
   {
    "duration": 21,
    "start_time": "2025-10-20T16:07:50.533Z"
   },
   {
    "duration": 60,
    "start_time": "2025-10-20T16:07:50.556Z"
   },
   {
    "duration": 597,
    "start_time": "2025-10-20T16:07:50.617Z"
   },
   {
    "duration": 35,
    "start_time": "2025-10-20T16:07:51.216Z"
   },
   {
    "duration": 24,
    "start_time": "2025-10-20T16:07:51.253Z"
   },
   {
    "duration": 234,
    "start_time": "2025-10-20T16:07:51.279Z"
   },
   {
    "duration": 701,
    "start_time": "2025-10-20T16:07:51.515Z"
   },
   {
    "duration": 30,
    "start_time": "2025-10-20T16:07:52.218Z"
   },
   {
    "duration": 27,
    "start_time": "2025-10-20T16:07:52.251Z"
   },
   {
    "duration": 429,
    "start_time": "2025-10-20T16:07:52.279Z"
   },
   {
    "duration": 10,
    "start_time": "2025-10-20T16:07:52.710Z"
   },
   {
    "duration": 324,
    "start_time": "2025-10-20T16:07:52.721Z"
   },
   {
    "duration": 6,
    "start_time": "2025-10-20T16:07:53.047Z"
   },
   {
    "duration": 14,
    "start_time": "2025-10-20T16:07:53.054Z"
   },
   {
    "duration": 46,
    "start_time": "2025-10-20T16:07:53.069Z"
   },
   {
    "duration": 133,
    "start_time": "2025-10-20T16:07:53.117Z"
   },
   {
    "duration": 112,
    "start_time": "2025-10-20T16:07:53.252Z"
   },
   {
    "duration": 0,
    "start_time": "2025-10-20T16:07:53.366Z"
   },
   {
    "duration": 0,
    "start_time": "2025-10-20T16:07:53.367Z"
   },
   {
    "duration": 0,
    "start_time": "2025-10-20T16:07:53.368Z"
   },
   {
    "duration": 9,
    "start_time": "2025-10-20T16:07:59.603Z"
   },
   {
    "duration": 8,
    "start_time": "2025-10-20T16:08:01.992Z"
   },
   {
    "duration": 10,
    "start_time": "2025-10-20T16:08:04.377Z"
   },
   {
    "duration": 9,
    "start_time": "2025-10-20T16:08:06.112Z"
   },
   {
    "duration": 521,
    "start_time": "2025-10-20T16:08:24.210Z"
   },
   {
    "duration": 9,
    "start_time": "2025-10-20T16:08:40.035Z"
   },
   {
    "duration": 10,
    "start_time": "2025-10-20T16:08:45.418Z"
   },
   {
    "duration": 9,
    "start_time": "2025-10-20T16:09:05.999Z"
   },
   {
    "duration": 11,
    "start_time": "2025-10-20T16:10:42.068Z"
   },
   {
    "duration": 113,
    "start_time": "2025-10-20T16:11:06.519Z"
   },
   {
    "duration": 3755,
    "start_time": "2025-10-20T16:13:31.908Z"
   },
   {
    "duration": 182,
    "start_time": "2025-10-20T16:13:35.665Z"
   },
   {
    "duration": 142,
    "start_time": "2025-10-20T16:13:37.805Z"
   },
   {
    "duration": 118,
    "start_time": "2025-10-20T16:13:43.132Z"
   },
   {
    "duration": 114,
    "start_time": "2025-10-20T16:13:45.752Z"
   },
   {
    "duration": 12,
    "start_time": "2025-10-20T16:13:48.866Z"
   },
   {
    "duration": 9,
    "start_time": "2025-10-20T16:13:52.294Z"
   },
   {
    "duration": 16,
    "start_time": "2025-10-20T16:15:09.600Z"
   },
   {
    "duration": 11,
    "start_time": "2025-10-20T16:15:46.460Z"
   },
   {
    "duration": 9,
    "start_time": "2025-10-20T16:16:35.822Z"
   },
   {
    "duration": 12,
    "start_time": "2025-10-20T16:16:57.558Z"
   },
   {
    "duration": 10,
    "start_time": "2025-10-20T16:18:29.697Z"
   },
   {
    "duration": 10902,
    "start_time": "2025-10-20T16:18:41.331Z"
   },
   {
    "duration": 13338,
    "start_time": "2025-10-20T16:18:52.235Z"
   },
   {
    "duration": 3,
    "start_time": "2025-10-20T16:19:05.575Z"
   },
   {
    "duration": 28,
    "start_time": "2025-10-20T16:19:05.579Z"
   },
   {
    "duration": 248,
    "start_time": "2025-10-20T16:19:05.609Z"
   },
   {
    "duration": 230,
    "start_time": "2025-10-20T16:19:05.859Z"
   },
   {
    "duration": 3,
    "start_time": "2025-10-20T16:19:06.090Z"
   },
   {
    "duration": 51,
    "start_time": "2025-10-20T16:19:06.095Z"
   },
   {
    "duration": 10,
    "start_time": "2025-10-20T16:19:06.148Z"
   },
   {
    "duration": 5646,
    "start_time": "2025-10-20T16:19:06.159Z"
   },
   {
    "duration": 320,
    "start_time": "2025-10-20T16:19:11.807Z"
   },
   {
    "duration": 136,
    "start_time": "2025-10-20T16:19:12.129Z"
   },
   {
    "duration": 194,
    "start_time": "2025-10-20T16:19:12.268Z"
   },
   {
    "duration": 614,
    "start_time": "2025-10-20T16:19:12.466Z"
   },
   {
    "duration": 97,
    "start_time": "2025-10-20T16:19:13.082Z"
   },
   {
    "duration": 4,
    "start_time": "2025-10-20T16:19:13.182Z"
   },
   {
    "duration": 207,
    "start_time": "2025-10-20T16:19:13.187Z"
   },
   {
    "duration": 492,
    "start_time": "2025-10-20T16:19:13.396Z"
   },
   {
    "duration": 20,
    "start_time": "2025-10-20T16:19:13.890Z"
   },
   {
    "duration": 23,
    "start_time": "2025-10-20T16:19:13.912Z"
   },
   {
    "duration": 40,
    "start_time": "2025-10-20T16:19:13.936Z"
   },
   {
    "duration": 628,
    "start_time": "2025-10-20T16:19:13.977Z"
   },
   {
    "duration": 37,
    "start_time": "2025-10-20T16:19:14.606Z"
   },
   {
    "duration": 36,
    "start_time": "2025-10-20T16:19:14.645Z"
   },
   {
    "duration": 223,
    "start_time": "2025-10-20T16:19:14.682Z"
   },
   {
    "duration": 8519,
    "start_time": "2025-10-20T16:19:43.842Z"
   },
   {
    "duration": 12053,
    "start_time": "2025-10-20T16:19:52.363Z"
   },
   {
    "duration": 3,
    "start_time": "2025-10-20T16:20:04.417Z"
   },
   {
    "duration": 15,
    "start_time": "2025-10-20T16:20:04.422Z"
   },
   {
    "duration": 269,
    "start_time": "2025-10-20T16:20:04.439Z"
   },
   {
    "duration": 228,
    "start_time": "2025-10-20T16:20:04.710Z"
   },
   {
    "duration": 3,
    "start_time": "2025-10-20T16:20:04.940Z"
   },
   {
    "duration": 116,
    "start_time": "2025-10-20T16:20:04.944Z"
   },
   {
    "duration": 27,
    "start_time": "2025-10-20T16:20:05.062Z"
   },
   {
    "duration": 5669,
    "start_time": "2025-10-20T16:20:05.091Z"
   },
   {
    "duration": 279,
    "start_time": "2025-10-20T16:20:10.762Z"
   },
   {
    "duration": 121,
    "start_time": "2025-10-20T16:20:11.043Z"
   },
   {
    "duration": 186,
    "start_time": "2025-10-20T16:20:11.166Z"
   },
   {
    "duration": 613,
    "start_time": "2025-10-20T16:20:11.355Z"
   },
   {
    "duration": 91,
    "start_time": "2025-10-20T16:20:11.970Z"
   },
   {
    "duration": 3,
    "start_time": "2025-10-20T16:20:12.063Z"
   },
   {
    "duration": 211,
    "start_time": "2025-10-20T16:20:12.068Z"
   },
   {
    "duration": 511,
    "start_time": "2025-10-20T16:20:12.281Z"
   },
   {
    "duration": 20,
    "start_time": "2025-10-20T16:20:12.793Z"
   },
   {
    "duration": 22,
    "start_time": "2025-10-20T16:20:12.814Z"
   },
   {
    "duration": 40,
    "start_time": "2025-10-20T16:20:12.837Z"
   },
   {
    "duration": 622,
    "start_time": "2025-10-20T16:20:12.879Z"
   },
   {
    "duration": 34,
    "start_time": "2025-10-20T16:20:13.505Z"
   },
   {
    "duration": 2,
    "start_time": "2025-10-20T16:20:13.541Z"
   },
   {
    "duration": 234,
    "start_time": "2025-10-20T16:20:13.545Z"
   },
   {
    "duration": 691,
    "start_time": "2025-10-20T16:20:13.781Z"
   },
   {
    "duration": 43,
    "start_time": "2025-10-20T16:20:14.474Z"
   },
   {
    "duration": 27,
    "start_time": "2025-10-20T16:20:14.519Z"
   },
   {
    "duration": 413,
    "start_time": "2025-10-20T16:20:14.548Z"
   },
   {
    "duration": 11,
    "start_time": "2025-10-20T16:20:14.962Z"
   },
   {
    "duration": 425,
    "start_time": "2025-10-20T16:20:14.975Z"
   },
   {
    "duration": 5,
    "start_time": "2025-10-20T16:20:15.404Z"
   },
   {
    "duration": 81,
    "start_time": "2025-10-20T16:20:15.411Z"
   },
   {
    "duration": 26,
    "start_time": "2025-10-20T16:20:15.493Z"
   },
   {
    "duration": 128,
    "start_time": "2025-10-20T16:20:15.521Z"
   },
   {
    "duration": 109,
    "start_time": "2025-10-20T16:20:15.651Z"
   },
   {
    "duration": 0,
    "start_time": "2025-10-20T16:20:15.762Z"
   },
   {
    "duration": 0,
    "start_time": "2025-10-20T16:20:15.764Z"
   },
   {
    "duration": 0,
    "start_time": "2025-10-20T16:20:15.765Z"
   },
   {
    "duration": 0,
    "start_time": "2025-10-20T16:20:15.766Z"
   },
   {
    "duration": 0,
    "start_time": "2025-10-20T16:20:15.767Z"
   },
   {
    "duration": 0,
    "start_time": "2025-10-20T16:20:15.768Z"
   },
   {
    "duration": 0,
    "start_time": "2025-10-20T16:20:15.769Z"
   },
   {
    "duration": 0,
    "start_time": "2025-10-20T16:20:15.770Z"
   },
   {
    "duration": 0,
    "start_time": "2025-10-20T16:20:15.771Z"
   },
   {
    "duration": 18,
    "start_time": "2025-10-20T16:20:48.382Z"
   },
   {
    "duration": 3820,
    "start_time": "2025-10-20T16:20:51.007Z"
   },
   {
    "duration": 176,
    "start_time": "2025-10-20T16:20:54.980Z"
   },
   {
    "duration": 144,
    "start_time": "2025-10-20T16:20:57.366Z"
   },
   {
    "duration": 12,
    "start_time": "2025-10-20T16:21:00.378Z"
   },
   {
    "duration": 10,
    "start_time": "2025-10-20T16:21:02.003Z"
   },
   {
    "duration": 9,
    "start_time": "2025-10-20T16:21:03.630Z"
   },
   {
    "duration": 101,
    "start_time": "2025-10-20T16:21:38.674Z"
   },
   {
    "duration": 9,
    "start_time": "2025-10-20T16:21:39.949Z"
   },
   {
    "duration": 546,
    "start_time": "2025-10-20T16:22:02.195Z"
   },
   {
    "duration": 530,
    "start_time": "2025-10-20T16:22:06.663Z"
   },
   {
    "duration": 657,
    "start_time": "2025-10-20T16:22:23.097Z"
   },
   {
    "duration": 652,
    "start_time": "2025-10-20T16:22:29.705Z"
   },
   {
    "duration": 9,
    "start_time": "2025-10-20T16:22:32.979Z"
   },
   {
    "duration": 9,
    "start_time": "2025-10-20T16:22:36.022Z"
   },
   {
    "duration": 17,
    "start_time": "2025-10-20T16:23:06.377Z"
   },
   {
    "duration": 10,
    "start_time": "2025-10-20T16:23:36.218Z"
   },
   {
    "duration": 13,
    "start_time": "2025-10-20T16:23:37.000Z"
   },
   {
    "duration": 12,
    "start_time": "2025-10-20T16:23:40.348Z"
   },
   {
    "duration": 534,
    "start_time": "2025-10-20T16:23:54.330Z"
   },
   {
    "duration": 21,
    "start_time": "2025-10-20T16:23:58.288Z"
   },
   {
    "duration": 41,
    "start_time": "2025-10-20T16:24:01.136Z"
   },
   {
    "duration": 10,
    "start_time": "2025-10-20T16:31:05.253Z"
   },
   {
    "duration": 122,
    "start_time": "2025-10-20T16:31:07.167Z"
   },
   {
    "duration": 8646,
    "start_time": "2025-10-20T16:33:43.619Z"
   },
   {
    "duration": 12639,
    "start_time": "2025-10-20T16:33:52.267Z"
   },
   {
    "duration": 3,
    "start_time": "2025-10-20T16:34:04.907Z"
   },
   {
    "duration": 14,
    "start_time": "2025-10-20T16:34:04.911Z"
   },
   {
    "duration": 259,
    "start_time": "2025-10-20T16:34:04.927Z"
   },
   {
    "duration": 223,
    "start_time": "2025-10-20T16:34:05.187Z"
   },
   {
    "duration": 3,
    "start_time": "2025-10-20T16:34:05.411Z"
   },
   {
    "duration": 55,
    "start_time": "2025-10-20T16:34:05.416Z"
   },
   {
    "duration": 8,
    "start_time": "2025-10-20T16:34:05.473Z"
   },
   {
    "duration": 5658,
    "start_time": "2025-10-20T16:34:05.483Z"
   },
   {
    "duration": 276,
    "start_time": "2025-10-20T16:34:11.142Z"
   },
   {
    "duration": 117,
    "start_time": "2025-10-20T16:34:11.419Z"
   },
   {
    "duration": 187,
    "start_time": "2025-10-20T16:34:11.537Z"
   },
   {
    "duration": 539,
    "start_time": "2025-10-20T16:34:11.727Z"
   },
   {
    "duration": 95,
    "start_time": "2025-10-20T16:34:12.268Z"
   },
   {
    "duration": 3,
    "start_time": "2025-10-20T16:34:12.365Z"
   },
   {
    "duration": 203,
    "start_time": "2025-10-20T16:34:12.369Z"
   },
   {
    "duration": 497,
    "start_time": "2025-10-20T16:34:12.574Z"
   },
   {
    "duration": 14,
    "start_time": "2025-10-20T16:34:13.073Z"
   },
   {
    "duration": 34,
    "start_time": "2025-10-20T16:34:13.089Z"
   },
   {
    "duration": 36,
    "start_time": "2025-10-20T16:34:13.125Z"
   },
   {
    "duration": 617,
    "start_time": "2025-10-20T16:34:13.162Z"
   },
   {
    "duration": 42,
    "start_time": "2025-10-20T16:34:13.781Z"
   },
   {
    "duration": 2,
    "start_time": "2025-10-20T16:34:13.825Z"
   },
   {
    "duration": 267,
    "start_time": "2025-10-20T16:34:13.828Z"
   },
   {
    "duration": 702,
    "start_time": "2025-10-20T16:34:14.104Z"
   },
   {
    "duration": 32,
    "start_time": "2025-10-20T16:34:14.807Z"
   },
   {
    "duration": 28,
    "start_time": "2025-10-20T16:34:14.841Z"
   },
   {
    "duration": 449,
    "start_time": "2025-10-20T16:34:14.871Z"
   },
   {
    "duration": 11,
    "start_time": "2025-10-20T16:34:15.323Z"
   },
   {
    "duration": 397,
    "start_time": "2025-10-20T16:34:15.336Z"
   },
   {
    "duration": 4,
    "start_time": "2025-10-20T16:34:15.735Z"
   },
   {
    "duration": 9,
    "start_time": "2025-10-20T16:34:15.740Z"
   },
   {
    "duration": 27,
    "start_time": "2025-10-20T16:34:15.751Z"
   },
   {
    "duration": 129,
    "start_time": "2025-10-20T16:34:15.780Z"
   },
   {
    "duration": 112,
    "start_time": "2025-10-20T16:34:15.911Z"
   },
   {
    "duration": 0,
    "start_time": "2025-10-20T16:34:16.025Z"
   },
   {
    "duration": 0,
    "start_time": "2025-10-20T16:34:16.026Z"
   },
   {
    "duration": 0,
    "start_time": "2025-10-20T16:34:16.027Z"
   },
   {
    "duration": 0,
    "start_time": "2025-10-20T16:34:16.029Z"
   },
   {
    "duration": 0,
    "start_time": "2025-10-20T16:34:16.029Z"
   },
   {
    "duration": 0,
    "start_time": "2025-10-20T16:34:16.031Z"
   },
   {
    "duration": 0,
    "start_time": "2025-10-20T16:34:16.032Z"
   },
   {
    "duration": 0,
    "start_time": "2025-10-20T16:34:16.033Z"
   },
   {
    "duration": 0,
    "start_time": "2025-10-20T16:34:16.034Z"
   },
   {
    "duration": 15,
    "start_time": "2025-10-20T16:46:25.032Z"
   },
   {
    "duration": 9825,
    "start_time": "2025-10-21T12:40:34.763Z"
   },
   {
    "duration": 11656,
    "start_time": "2025-10-21T12:40:44.590Z"
   },
   {
    "duration": 3849,
    "start_time": "2025-10-21T12:40:56.248Z"
   },
   {
    "duration": 8,
    "start_time": "2025-10-21T12:41:00.099Z"
   },
   {
    "duration": 63,
    "start_time": "2025-10-21T12:41:00.109Z"
   },
   {
    "duration": 290,
    "start_time": "2025-10-21T12:41:00.174Z"
   },
   {
    "duration": 255,
    "start_time": "2025-10-21T12:41:00.465Z"
   },
   {
    "duration": 4,
    "start_time": "2025-10-21T12:41:00.721Z"
   },
   {
    "duration": 147,
    "start_time": "2025-10-21T12:41:00.727Z"
   },
   {
    "duration": 13,
    "start_time": "2025-10-21T12:41:00.876Z"
   },
   {
    "duration": 6186,
    "start_time": "2025-10-21T12:41:00.891Z"
   },
   {
    "duration": 291,
    "start_time": "2025-10-21T12:41:07.079Z"
   },
   {
    "duration": 121,
    "start_time": "2025-10-21T12:41:07.371Z"
   },
   {
    "duration": 190,
    "start_time": "2025-10-21T12:41:07.495Z"
   },
   {
    "duration": 623,
    "start_time": "2025-10-21T12:41:07.686Z"
   },
   {
    "duration": 96,
    "start_time": "2025-10-21T12:41:08.311Z"
   },
   {
    "duration": 4,
    "start_time": "2025-10-21T12:41:08.409Z"
   },
   {
    "duration": 261,
    "start_time": "2025-10-21T12:41:08.414Z"
   },
   {
    "duration": 615,
    "start_time": "2025-10-21T12:41:08.677Z"
   },
   {
    "duration": 26,
    "start_time": "2025-10-21T12:41:09.294Z"
   },
   {
    "duration": 25,
    "start_time": "2025-10-21T12:41:09.322Z"
   },
   {
    "duration": 60,
    "start_time": "2025-10-21T12:41:09.349Z"
   },
   {
    "duration": 623,
    "start_time": "2025-10-21T12:41:09.411Z"
   },
   {
    "duration": 40,
    "start_time": "2025-10-21T12:41:10.036Z"
   },
   {
    "duration": 3,
    "start_time": "2025-10-21T12:41:10.077Z"
   },
   {
    "duration": 275,
    "start_time": "2025-10-21T12:41:10.082Z"
   },
   {
    "duration": 766,
    "start_time": "2025-10-21T12:41:10.359Z"
   },
   {
    "duration": 36,
    "start_time": "2025-10-21T12:41:11.127Z"
   },
   {
    "duration": 52,
    "start_time": "2025-10-21T12:41:11.165Z"
   },
   {
    "duration": 453,
    "start_time": "2025-10-21T12:41:11.220Z"
   },
   {
    "duration": 12,
    "start_time": "2025-10-21T12:41:11.676Z"
   },
   {
    "duration": 359,
    "start_time": "2025-10-21T12:41:11.690Z"
   },
   {
    "duration": 5,
    "start_time": "2025-10-21T12:41:12.051Z"
   },
   {
    "duration": 15,
    "start_time": "2025-10-21T12:41:12.058Z"
   },
   {
    "duration": 46,
    "start_time": "2025-10-21T12:41:12.075Z"
   },
   {
    "duration": 151,
    "start_time": "2025-10-21T12:41:12.124Z"
   },
   {
    "duration": 131,
    "start_time": "2025-10-21T12:41:12.278Z"
   },
   {
    "duration": 0,
    "start_time": "2025-10-21T12:41:12.411Z"
   },
   {
    "duration": 0,
    "start_time": "2025-10-21T12:41:12.413Z"
   },
   {
    "duration": 0,
    "start_time": "2025-10-21T12:41:12.415Z"
   },
   {
    "duration": 0,
    "start_time": "2025-10-21T12:41:12.416Z"
   },
   {
    "duration": 0,
    "start_time": "2025-10-21T12:41:12.418Z"
   },
   {
    "duration": 1,
    "start_time": "2025-10-21T12:41:12.419Z"
   },
   {
    "duration": 0,
    "start_time": "2025-10-21T12:41:12.421Z"
   },
   {
    "duration": 0,
    "start_time": "2025-10-21T12:41:12.423Z"
   },
   {
    "duration": 0,
    "start_time": "2025-10-21T12:41:12.424Z"
   },
   {
    "duration": 67,
    "start_time": "2025-10-21T13:33:35.142Z"
   },
   {
    "duration": 10701,
    "start_time": "2025-10-21T13:33:39.827Z"
   },
   {
    "duration": 4,
    "start_time": "2025-10-21T13:35:10.741Z"
   },
   {
    "duration": 9251,
    "start_time": "2025-10-21T13:35:23.078Z"
   },
   {
    "duration": 3,
    "start_time": "2025-10-21T13:36:06.471Z"
   },
   {
    "duration": 4,
    "start_time": "2025-10-21T13:36:35.979Z"
   },
   {
    "duration": 492,
    "start_time": "2025-10-21T13:36:59.272Z"
   },
   {
    "duration": 346,
    "start_time": "2025-10-21T13:37:08.180Z"
   },
   {
    "duration": 4,
    "start_time": "2025-10-21T13:37:15.910Z"
   },
   {
    "duration": 85,
    "start_time": "2025-10-21T13:37:19.711Z"
   },
   {
    "duration": 54,
    "start_time": "2025-10-21T15:01:49.312Z"
   },
   {
    "duration": 9793,
    "start_time": "2025-10-21T15:01:58.283Z"
   },
   {
    "duration": 11357,
    "start_time": "2025-10-21T15:02:08.079Z"
   },
   {
    "duration": 4360,
    "start_time": "2025-10-21T15:02:19.438Z"
   },
   {
    "duration": 6,
    "start_time": "2025-10-21T15:02:23.800Z"
   },
   {
    "duration": 21,
    "start_time": "2025-10-21T15:02:23.807Z"
   },
   {
    "duration": 476,
    "start_time": "2025-10-21T15:02:23.829Z"
   },
   {
    "duration": 327,
    "start_time": "2025-10-21T15:02:24.307Z"
   },
   {
    "duration": 3,
    "start_time": "2025-10-21T15:02:24.635Z"
   },
   {
    "duration": 55,
    "start_time": "2025-10-21T15:02:24.639Z"
   },
   {
    "duration": 11,
    "start_time": "2025-10-21T15:02:24.696Z"
   },
   {
    "duration": 130,
    "start_time": "2025-10-21T15:02:24.708Z"
   },
   {
    "duration": 0,
    "start_time": "2025-10-21T15:02:24.841Z"
   },
   {
    "duration": 0,
    "start_time": "2025-10-21T15:02:24.842Z"
   },
   {
    "duration": 0,
    "start_time": "2025-10-21T15:02:24.843Z"
   },
   {
    "duration": 0,
    "start_time": "2025-10-21T15:02:24.844Z"
   },
   {
    "duration": 0,
    "start_time": "2025-10-21T15:02:24.845Z"
   },
   {
    "duration": 0,
    "start_time": "2025-10-21T15:02:24.846Z"
   },
   {
    "duration": 0,
    "start_time": "2025-10-21T15:02:24.847Z"
   },
   {
    "duration": 0,
    "start_time": "2025-10-21T15:02:24.848Z"
   },
   {
    "duration": 0,
    "start_time": "2025-10-21T15:02:24.849Z"
   },
   {
    "duration": 0,
    "start_time": "2025-10-21T15:02:24.850Z"
   },
   {
    "duration": 0,
    "start_time": "2025-10-21T15:02:24.851Z"
   },
   {
    "duration": 0,
    "start_time": "2025-10-21T15:02:24.853Z"
   },
   {
    "duration": 0,
    "start_time": "2025-10-21T15:02:24.853Z"
   },
   {
    "duration": 0,
    "start_time": "2025-10-21T15:02:24.854Z"
   },
   {
    "duration": 0,
    "start_time": "2025-10-21T15:02:24.855Z"
   },
   {
    "duration": 0,
    "start_time": "2025-10-21T15:02:24.856Z"
   },
   {
    "duration": 0,
    "start_time": "2025-10-21T15:02:24.857Z"
   },
   {
    "duration": 0,
    "start_time": "2025-10-21T15:02:24.858Z"
   },
   {
    "duration": 0,
    "start_time": "2025-10-21T15:02:24.860Z"
   },
   {
    "duration": 0,
    "start_time": "2025-10-21T15:02:24.861Z"
   },
   {
    "duration": 0,
    "start_time": "2025-10-21T15:02:24.862Z"
   },
   {
    "duration": 0,
    "start_time": "2025-10-21T15:02:24.863Z"
   },
   {
    "duration": 0,
    "start_time": "2025-10-21T15:02:24.906Z"
   },
   {
    "duration": 0,
    "start_time": "2025-10-21T15:02:24.906Z"
   },
   {
    "duration": 0,
    "start_time": "2025-10-21T15:02:24.907Z"
   },
   {
    "duration": 0,
    "start_time": "2025-10-21T15:02:24.908Z"
   },
   {
    "duration": 0,
    "start_time": "2025-10-21T15:02:24.909Z"
   },
   {
    "duration": 0,
    "start_time": "2025-10-21T15:02:24.910Z"
   },
   {
    "duration": 0,
    "start_time": "2025-10-21T15:02:24.911Z"
   },
   {
    "duration": 0,
    "start_time": "2025-10-21T15:02:24.912Z"
   },
   {
    "duration": 0,
    "start_time": "2025-10-21T15:02:24.913Z"
   },
   {
    "duration": 0,
    "start_time": "2025-10-21T15:02:24.914Z"
   },
   {
    "duration": 0,
    "start_time": "2025-10-21T15:02:24.914Z"
   },
   {
    "duration": 0,
    "start_time": "2025-10-21T15:02:24.915Z"
   },
   {
    "duration": 0,
    "start_time": "2025-10-21T15:02:24.916Z"
   },
   {
    "duration": 0,
    "start_time": "2025-10-21T15:02:24.917Z"
   },
   {
    "duration": 24,
    "start_time": "2025-10-21T15:04:10.421Z"
   },
   {
    "duration": 460,
    "start_time": "2025-10-21T15:07:21.362Z"
   },
   {
    "duration": 320,
    "start_time": "2025-10-21T15:07:25.033Z"
   },
   {
    "duration": 67,
    "start_time": "2025-10-21T15:07:44.029Z"
   },
   {
    "duration": 10,
    "start_time": "2025-10-21T15:07:54.092Z"
   },
   {
    "duration": 13,
    "start_time": "2025-10-21T15:07:57.624Z"
   },
   {
    "duration": 16,
    "start_time": "2025-10-21T15:08:01.226Z"
   },
   {
    "duration": 14,
    "start_time": "2025-10-21T15:08:03.797Z"
   },
   {
    "duration": 12,
    "start_time": "2025-10-21T15:08:45.021Z"
   },
   {
    "duration": 10367,
    "start_time": "2025-10-21T15:08:55.109Z"
   },
   {
    "duration": 11718,
    "start_time": "2025-10-21T15:09:05.478Z"
   },
   {
    "duration": 4908,
    "start_time": "2025-10-21T15:09:17.198Z"
   },
   {
    "duration": 3,
    "start_time": "2025-10-21T15:09:22.107Z"
   },
   {
    "duration": 21,
    "start_time": "2025-10-21T15:09:22.112Z"
   },
   {
    "duration": 482,
    "start_time": "2025-10-21T15:09:22.135Z"
   },
   {
    "duration": 331,
    "start_time": "2025-10-21T15:09:22.618Z"
   },
   {
    "duration": 3,
    "start_time": "2025-10-21T15:09:22.951Z"
   },
   {
    "duration": 95,
    "start_time": "2025-10-21T15:09:22.956Z"
   },
   {
    "duration": 9,
    "start_time": "2025-10-21T15:09:23.053Z"
   },
   {
    "duration": 111,
    "start_time": "2025-10-21T15:09:23.064Z"
   },
   {
    "duration": 0,
    "start_time": "2025-10-21T15:09:23.177Z"
   },
   {
    "duration": 0,
    "start_time": "2025-10-21T15:09:23.178Z"
   },
   {
    "duration": 0,
    "start_time": "2025-10-21T15:09:23.180Z"
   },
   {
    "duration": 0,
    "start_time": "2025-10-21T15:09:23.181Z"
   },
   {
    "duration": 0,
    "start_time": "2025-10-21T15:09:23.182Z"
   },
   {
    "duration": 0,
    "start_time": "2025-10-21T15:09:23.183Z"
   },
   {
    "duration": 0,
    "start_time": "2025-10-21T15:09:23.184Z"
   },
   {
    "duration": 0,
    "start_time": "2025-10-21T15:09:23.186Z"
   },
   {
    "duration": 0,
    "start_time": "2025-10-21T15:09:23.187Z"
   },
   {
    "duration": 0,
    "start_time": "2025-10-21T15:09:23.188Z"
   },
   {
    "duration": 0,
    "start_time": "2025-10-21T15:09:23.189Z"
   },
   {
    "duration": 0,
    "start_time": "2025-10-21T15:09:23.205Z"
   },
   {
    "duration": 0,
    "start_time": "2025-10-21T15:09:23.206Z"
   },
   {
    "duration": 0,
    "start_time": "2025-10-21T15:09:23.208Z"
   },
   {
    "duration": 0,
    "start_time": "2025-10-21T15:09:23.209Z"
   },
   {
    "duration": 0,
    "start_time": "2025-10-21T15:09:23.210Z"
   },
   {
    "duration": 0,
    "start_time": "2025-10-21T15:09:23.211Z"
   },
   {
    "duration": 0,
    "start_time": "2025-10-21T15:09:23.212Z"
   },
   {
    "duration": 0,
    "start_time": "2025-10-21T15:09:23.213Z"
   },
   {
    "duration": 0,
    "start_time": "2025-10-21T15:09:23.214Z"
   },
   {
    "duration": 0,
    "start_time": "2025-10-21T15:09:23.215Z"
   },
   {
    "duration": 0,
    "start_time": "2025-10-21T15:09:23.216Z"
   },
   {
    "duration": 0,
    "start_time": "2025-10-21T15:09:23.217Z"
   },
   {
    "duration": 0,
    "start_time": "2025-10-21T15:09:23.219Z"
   },
   {
    "duration": 0,
    "start_time": "2025-10-21T15:09:23.220Z"
   },
   {
    "duration": 0,
    "start_time": "2025-10-21T15:09:23.221Z"
   },
   {
    "duration": 0,
    "start_time": "2025-10-21T15:09:23.222Z"
   },
   {
    "duration": 0,
    "start_time": "2025-10-21T15:09:23.224Z"
   },
   {
    "duration": 0,
    "start_time": "2025-10-21T15:09:23.225Z"
   },
   {
    "duration": 0,
    "start_time": "2025-10-21T15:09:23.226Z"
   },
   {
    "duration": 0,
    "start_time": "2025-10-21T15:09:23.227Z"
   },
   {
    "duration": 0,
    "start_time": "2025-10-21T15:09:23.229Z"
   },
   {
    "duration": 0,
    "start_time": "2025-10-21T15:09:23.230Z"
   },
   {
    "duration": 0,
    "start_time": "2025-10-21T15:09:23.232Z"
   },
   {
    "duration": 0,
    "start_time": "2025-10-21T15:09:23.233Z"
   },
   {
    "duration": 0,
    "start_time": "2025-10-21T15:09:23.234Z"
   },
   {
    "duration": 11,
    "start_time": "2025-10-21T15:09:38.537Z"
   },
   {
    "duration": 11,
    "start_time": "2025-10-21T15:09:43.381Z"
   },
   {
    "duration": 12,
    "start_time": "2025-10-21T15:09:45.308Z"
   },
   {
    "duration": 11,
    "start_time": "2025-10-21T15:09:51.491Z"
   },
   {
    "duration": 4,
    "start_time": "2025-10-21T15:10:40.202Z"
   },
   {
    "duration": 51,
    "start_time": "2025-10-21T15:10:42.984Z"
   },
   {
    "duration": 10,
    "start_time": "2025-10-21T15:10:46.691Z"
   },
   {
    "duration": 11,
    "start_time": "2025-10-21T15:10:50.197Z"
   },
   {
    "duration": 17,
    "start_time": "2025-10-21T15:10:58.999Z"
   },
   {
    "duration": 18,
    "start_time": "2025-10-21T15:11:04.637Z"
   },
   {
    "duration": 1585,
    "start_time": "2025-10-21T15:13:32.107Z"
   },
   {
    "duration": 16,
    "start_time": "2025-10-21T15:14:05.538Z"
   },
   {
    "duration": 2189,
    "start_time": "2025-10-21T15:14:15.127Z"
   },
   {
    "duration": 11,
    "start_time": "2025-10-21T15:17:46.176Z"
   },
   {
    "duration": 15,
    "start_time": "2025-10-21T15:18:03.685Z"
   },
   {
    "duration": 15,
    "start_time": "2025-10-21T15:18:16.976Z"
   },
   {
    "duration": 14,
    "start_time": "2025-10-21T15:20:26.407Z"
   },
   {
    "duration": 15,
    "start_time": "2025-10-21T15:20:37.545Z"
   },
   {
    "duration": 4957,
    "start_time": "2025-10-21T15:21:57.982Z"
   },
   {
    "duration": 4,
    "start_time": "2025-10-21T15:22:04.393Z"
   },
   {
    "duration": 4,
    "start_time": "2025-10-21T15:22:14.584Z"
   },
   {
    "duration": 4,
    "start_time": "2025-10-21T15:22:19.497Z"
   },
   {
    "duration": 458,
    "start_time": "2025-10-21T15:22:26.669Z"
   },
   {
    "duration": 320,
    "start_time": "2025-10-21T15:22:35.165Z"
   },
   {
    "duration": 3,
    "start_time": "2025-10-21T15:22:48.397Z"
   },
   {
    "duration": 59,
    "start_time": "2025-10-21T15:22:50.856Z"
   },
   {
    "duration": 14,
    "start_time": "2025-10-21T15:22:53.956Z"
   },
   {
    "duration": 13,
    "start_time": "2025-10-21T15:22:57.038Z"
   },
   {
    "duration": 13,
    "start_time": "2025-10-21T15:23:35.003Z"
   },
   {
    "duration": 24,
    "start_time": "2025-10-21T15:25:03.001Z"
   },
   {
    "duration": 472,
    "start_time": "2025-10-21T15:25:14.692Z"
   },
   {
    "duration": 0,
    "start_time": "2025-10-21T15:26:17.781Z"
   },
   {
    "duration": 28,
    "start_time": "2025-10-21T15:26:29.734Z"
   },
   {
    "duration": 4084,
    "start_time": "2025-10-21T15:26:31.958Z"
   },
   {
    "duration": 54,
    "start_time": "2025-10-21T15:27:58.324Z"
   },
   {
    "duration": 6624,
    "start_time": "2025-10-21T15:28:45.989Z"
   },
   {
    "duration": 6596,
    "start_time": "2025-10-21T15:29:41.878Z"
   },
   {
    "duration": 0,
    "start_time": "2025-10-21T15:29:48.475Z"
   },
   {
    "duration": 11224,
    "start_time": "2025-10-21T15:30:12.229Z"
   },
   {
    "duration": 501,
    "start_time": "2025-10-21T15:31:53.665Z"
   },
   {
    "duration": 10,
    "start_time": "2025-10-21T15:41:58.720Z"
   },
   {
    "duration": 37,
    "start_time": "2025-10-21T15:42:00.672Z"
   },
   {
    "duration": 355,
    "start_time": "2025-10-21T15:42:02.761Z"
   },
   {
    "duration": 321,
    "start_time": "2025-10-21T15:42:11.440Z"
   },
   {
    "duration": 95,
    "start_time": "2025-10-21T15:42:15.715Z"
   },
   {
    "duration": 4,
    "start_time": "2025-10-21T15:42:18.748Z"
   },
   {
    "duration": 4,
    "start_time": "2025-10-21T15:42:23.239Z"
   },
   {
    "duration": 26,
    "start_time": "2025-10-21T15:44:55.655Z"
   },
   {
    "duration": 202,
    "start_time": "2025-10-21T15:45:03.063Z"
   },
   {
    "duration": 26,
    "start_time": "2025-10-21T15:45:05.077Z"
   },
   {
    "duration": 5734,
    "start_time": "2025-10-21T15:45:58.372Z"
   },
   {
    "duration": 6346,
    "start_time": "2025-10-21T15:46:59.275Z"
   },
   {
    "duration": 15,
    "start_time": "2025-10-21T15:47:11.255Z"
   },
   {
    "duration": 6219,
    "start_time": "2025-10-21T15:47:15.021Z"
   },
   {
    "duration": 29,
    "start_time": "2025-10-21T15:47:52.760Z"
   },
   {
    "duration": 1526,
    "start_time": "2025-10-21T15:49:13.584Z"
   },
   {
    "duration": 1435,
    "start_time": "2025-10-21T15:49:24.524Z"
   },
   {
    "duration": 13,
    "start_time": "2025-10-21T15:50:21.321Z"
   },
   {
    "duration": 1757,
    "start_time": "2025-10-21T15:50:28.336Z"
   },
   {
    "duration": 1558,
    "start_time": "2025-10-21T15:51:20.798Z"
   },
   {
    "duration": 1681,
    "start_time": "2025-10-21T15:51:27.380Z"
   },
   {
    "duration": 9,
    "start_time": "2025-10-21T16:09:44.505Z"
   },
   {
    "duration": 12,
    "start_time": "2025-10-21T16:09:50.484Z"
   },
   {
    "duration": 1579,
    "start_time": "2025-10-21T16:10:43.202Z"
   },
   {
    "duration": 1543,
    "start_time": "2025-10-21T16:14:45.133Z"
   },
   {
    "duration": 1551,
    "start_time": "2025-10-21T16:15:42.433Z"
   },
   {
    "duration": 13,
    "start_time": "2025-10-21T16:16:42.264Z"
   },
   {
    "duration": 11,
    "start_time": "2025-10-21T16:16:47.696Z"
   },
   {
    "duration": 17,
    "start_time": "2025-10-21T16:18:04.860Z"
   },
   {
    "duration": 11,
    "start_time": "2025-10-21T16:19:24.195Z"
   },
   {
    "duration": 18,
    "start_time": "2025-10-21T16:20:39.849Z"
   },
   {
    "duration": 9,
    "start_time": "2025-10-21T16:21:38.632Z"
   },
   {
    "duration": 10,
    "start_time": "2025-10-21T16:22:37.671Z"
   },
   {
    "duration": 12,
    "start_time": "2025-10-21T16:22:42.087Z"
   },
   {
    "duration": 8,
    "start_time": "2025-10-21T16:22:46.869Z"
   },
   {
    "duration": 18,
    "start_time": "2025-10-21T16:23:04.996Z"
   },
   {
    "duration": 9,
    "start_time": "2025-10-21T16:26:06.522Z"
   },
   {
    "duration": 23,
    "start_time": "2025-10-21T16:31:39.352Z"
   },
   {
    "duration": 15,
    "start_time": "2025-10-21T16:31:51.761Z"
   },
   {
    "duration": 11,
    "start_time": "2025-10-21T16:32:13.821Z"
   },
   {
    "duration": 9,
    "start_time": "2025-10-21T16:34:13.931Z"
   },
   {
    "duration": 17,
    "start_time": "2025-10-21T16:36:41.610Z"
   },
   {
    "duration": 9,
    "start_time": "2025-10-21T16:36:44.777Z"
   },
   {
    "duration": 83,
    "start_time": "2025-10-21T16:36:47.997Z"
   },
   {
    "duration": 111,
    "start_time": "2025-10-21T16:37:09.528Z"
   },
   {
    "duration": 87,
    "start_time": "2025-10-21T16:37:26.345Z"
   },
   {
    "duration": 104,
    "start_time": "2025-10-21T16:37:55.980Z"
   },
   {
    "duration": 11,
    "start_time": "2025-10-21T16:38:47.055Z"
   },
   {
    "duration": 12,
    "start_time": "2025-10-21T16:42:48.198Z"
   },
   {
    "duration": 3,
    "start_time": "2025-10-21T16:42:51.617Z"
   },
   {
    "duration": 15,
    "start_time": "2025-10-21T16:42:53.449Z"
   },
   {
    "duration": 4,
    "start_time": "2025-10-21T16:45:25.257Z"
   },
   {
    "duration": 735,
    "start_time": "2025-10-21T16:46:00.348Z"
   },
   {
    "duration": 3,
    "start_time": "2025-10-21T16:46:04.429Z"
   },
   {
    "duration": 713,
    "start_time": "2025-10-21T16:51:02.256Z"
   },
   {
    "duration": 30,
    "start_time": "2025-10-21T16:54:16.925Z"
   },
   {
    "duration": 32,
    "start_time": "2025-10-21T16:54:19.381Z"
   },
   {
    "duration": 1430,
    "start_time": "2025-10-21T16:57:44.946Z"
   },
   {
    "duration": 332,
    "start_time": "2025-10-21T16:57:57.896Z"
   },
   {
    "duration": 10,
    "start_time": "2025-10-21T17:01:20.633Z"
   },
   {
    "duration": 1411,
    "start_time": "2025-10-21T17:01:23.111Z"
   },
   {
    "duration": 1513,
    "start_time": "2025-10-21T17:01:25.309Z"
   },
   {
    "duration": 304,
    "start_time": "2025-10-21T17:02:16.613Z"
   },
   {
    "duration": 4,
    "start_time": "2025-10-21T17:02:20.327Z"
   },
   {
    "duration": 1347,
    "start_time": "2025-10-21T17:04:38.094Z"
   },
   {
    "duration": 9,
    "start_time": "2025-10-21T17:04:51.802Z"
   },
   {
    "duration": 9,
    "start_time": "2025-10-21T17:04:57.650Z"
   },
   {
    "duration": 26,
    "start_time": "2025-10-21T17:05:18.397Z"
   },
   {
    "duration": 122,
    "start_time": "2025-10-21T17:05:27.066Z"
   },
   {
    "duration": 703,
    "start_time": "2025-10-21T17:06:48.488Z"
   },
   {
    "duration": 21,
    "start_time": "2025-10-21T17:07:40.828Z"
   },
   {
    "duration": 12,
    "start_time": "2025-10-21T17:08:10.995Z"
   },
   {
    "duration": 402,
    "start_time": "2025-10-21T17:08:16.759Z"
   },
   {
    "duration": 24,
    "start_time": "2025-10-21T17:11:22.839Z"
   },
   {
    "duration": 146,
    "start_time": "2025-10-21T17:11:25.124Z"
   },
   {
    "duration": 3836,
    "start_time": "2025-10-21T17:12:13.192Z"
   },
   {
    "duration": 183,
    "start_time": "2025-10-21T17:12:17.030Z"
   },
   {
    "duration": 144,
    "start_time": "2025-10-21T17:12:19.531Z"
   },
   {
    "duration": 14,
    "start_time": "2025-10-21T17:12:59.291Z"
   },
   {
    "duration": 13,
    "start_time": "2025-10-21T17:13:50.355Z"
   },
   {
    "duration": 7512,
    "start_time": "2025-10-21T17:16:42.782Z"
   },
   {
    "duration": 0,
    "start_time": "2025-10-21T17:16:50.296Z"
   },
   {
    "duration": 7737,
    "start_time": "2025-10-21T17:17:22.751Z"
   },
   {
    "duration": 3,
    "start_time": "2025-10-21T17:23:24.578Z"
   },
   {
    "duration": 13,
    "start_time": "2025-10-21T17:24:07.019Z"
   },
   {
    "duration": 13,
    "start_time": "2025-10-21T17:24:59.914Z"
   },
   {
    "duration": 3,
    "start_time": "2025-10-21T17:25:37.179Z"
   },
   {
    "duration": 566,
    "start_time": "2025-10-21T17:26:46.284Z"
   },
   {
    "duration": 339,
    "start_time": "2025-10-21T17:26:50.184Z"
   },
   {
    "duration": 13490,
    "start_time": "2025-10-24T14:59:41.284Z"
   },
   {
    "duration": 9925,
    "start_time": "2025-10-24T14:59:54.778Z"
   },
   {
    "duration": 0,
    "start_time": "2025-10-24T15:00:04.705Z"
   },
   {
    "duration": 0,
    "start_time": "2025-10-24T15:00:04.707Z"
   },
   {
    "duration": 0,
    "start_time": "2025-10-24T15:00:04.709Z"
   },
   {
    "duration": 0,
    "start_time": "2025-10-24T15:00:04.710Z"
   },
   {
    "duration": 0,
    "start_time": "2025-10-24T15:00:04.712Z"
   },
   {
    "duration": 0,
    "start_time": "2025-10-24T15:00:04.713Z"
   },
   {
    "duration": 0,
    "start_time": "2025-10-24T15:00:04.715Z"
   },
   {
    "duration": 0,
    "start_time": "2025-10-24T15:00:04.717Z"
   },
   {
    "duration": 0,
    "start_time": "2025-10-24T15:00:04.718Z"
   },
   {
    "duration": 0,
    "start_time": "2025-10-24T15:00:04.720Z"
   },
   {
    "duration": 0,
    "start_time": "2025-10-24T15:00:04.722Z"
   },
   {
    "duration": 0,
    "start_time": "2025-10-24T15:00:04.724Z"
   },
   {
    "duration": 0,
    "start_time": "2025-10-24T15:00:04.757Z"
   },
   {
    "duration": 0,
    "start_time": "2025-10-24T15:00:04.759Z"
   },
   {
    "duration": 0,
    "start_time": "2025-10-24T15:00:04.760Z"
   },
   {
    "duration": 0,
    "start_time": "2025-10-24T15:00:04.761Z"
   },
   {
    "duration": 0,
    "start_time": "2025-10-24T15:00:04.765Z"
   },
   {
    "duration": 0,
    "start_time": "2025-10-24T15:00:04.766Z"
   },
   {
    "duration": 0,
    "start_time": "2025-10-24T15:00:04.769Z"
   },
   {
    "duration": 0,
    "start_time": "2025-10-24T15:00:04.771Z"
   },
   {
    "duration": 0,
    "start_time": "2025-10-24T15:00:04.773Z"
   },
   {
    "duration": 0,
    "start_time": "2025-10-24T15:00:04.774Z"
   },
   {
    "duration": 0,
    "start_time": "2025-10-24T15:00:04.777Z"
   },
   {
    "duration": 0,
    "start_time": "2025-10-24T15:00:04.780Z"
   },
   {
    "duration": 0,
    "start_time": "2025-10-24T15:00:04.781Z"
   },
   {
    "duration": 0,
    "start_time": "2025-10-24T15:00:04.783Z"
   },
   {
    "duration": 0,
    "start_time": "2025-10-24T15:00:04.785Z"
   },
   {
    "duration": 0,
    "start_time": "2025-10-24T15:00:04.786Z"
   },
   {
    "duration": 0,
    "start_time": "2025-10-24T15:00:04.787Z"
   },
   {
    "duration": 0,
    "start_time": "2025-10-24T15:00:04.788Z"
   },
   {
    "duration": 0,
    "start_time": "2025-10-24T15:00:04.789Z"
   },
   {
    "duration": 0,
    "start_time": "2025-10-24T15:00:04.791Z"
   },
   {
    "duration": 0,
    "start_time": "2025-10-24T15:00:04.792Z"
   },
   {
    "duration": 0,
    "start_time": "2025-10-24T15:00:04.793Z"
   },
   {
    "duration": 0,
    "start_time": "2025-10-24T15:00:04.794Z"
   },
   {
    "duration": 0,
    "start_time": "2025-10-24T15:00:04.795Z"
   },
   {
    "duration": 0,
    "start_time": "2025-10-24T15:00:04.796Z"
   },
   {
    "duration": 0,
    "start_time": "2025-10-24T15:00:04.797Z"
   },
   {
    "duration": 0,
    "start_time": "2025-10-24T15:00:04.798Z"
   },
   {
    "duration": 0,
    "start_time": "2025-10-24T15:00:04.799Z"
   },
   {
    "duration": 0,
    "start_time": "2025-10-24T15:00:04.858Z"
   },
   {
    "duration": 0,
    "start_time": "2025-10-24T15:00:04.859Z"
   },
   {
    "duration": 0,
    "start_time": "2025-10-24T15:00:04.860Z"
   },
   {
    "duration": 0,
    "start_time": "2025-10-24T15:00:04.861Z"
   },
   {
    "duration": 123,
    "start_time": "2025-10-24T15:11:54.974Z"
   },
   {
    "duration": 119,
    "start_time": "2025-10-24T15:12:13.478Z"
   },
   {
    "duration": 10,
    "start_time": "2025-10-24T15:12:17.423Z"
   }
  ],
  "colab": {
   "provenance": [],
   "toc_visible": true
  },
  "kernelspec": {
   "display_name": "Python 3 (ipykernel)",
   "language": "python",
   "name": "python3"
  },
  "language_info": {
   "codemirror_mode": {
    "name": "ipython",
    "version": 3
   },
   "file_extension": ".py",
   "mimetype": "text/x-python",
   "name": "python",
   "nbconvert_exporter": "python",
   "pygments_lexer": "ipython3",
   "version": "3.9.5"
  },
  "toc": {
   "base_numbering": 1,
   "nav_menu": {},
   "number_sections": true,
   "sideBar": true,
   "skip_h1_title": true,
   "title_cell": "Table of Contents",
   "title_sidebar": "Contents",
   "toc_cell": false,
   "toc_position": {
    "height": "calc(100% - 180px)",
    "left": "10px",
    "top": "150px",
    "width": "165px"
   },
   "toc_section_display": true,
   "toc_window_display": false
  }
 },
 "nbformat": 4,
 "nbformat_minor": 5
}
